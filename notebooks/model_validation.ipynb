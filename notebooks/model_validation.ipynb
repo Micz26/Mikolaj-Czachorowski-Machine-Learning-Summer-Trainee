{
 "cells": [
  {
   "cell_type": "markdown",
   "metadata": {},
   "source": [
    "# Model Results"
   ]
  },
  {
   "cell_type": "markdown",
   "metadata": {},
   "source": [
    "## Introduction"
   ]
  },
  {
   "cell_type": "markdown",
   "metadata": {},
   "source": [
    "I've engineered 4 distinct RAG models. For indexing, I've carefully designed 4 methods (source/index_utils.py) to organize and structure the \"1300 Towards Data Science Medium Articles\" dataset, making it easy to search and find specific articles. For retrieval, I've built strong systems (source/rag_model.py) that uses RAG to find and provide relevant parts of articles. I've also made sure to break down the articles into smaller sections in a smart way to ensure that the returned fragments have just the right amount of information. In order to properly compare models i prepared some evaluation tools (source/eval_utils.py). I utilized [LlamaIndex](https://www.llamaindex.ai/) to implement these models effectively. In this notebook I present the results and comparison between them to assess their performance and effectiveness. \n"
   ]
  },
  {
   "cell_type": "markdown",
   "metadata": {},
   "source": [
    "Below I imported essential libraries aswell predefined by me Rag Models."
   ]
  },
  {
   "cell_type": "code",
   "execution_count": 1,
   "metadata": {},
   "outputs": [
    {
     "name": "stdout",
     "output_type": "stream",
     "text": [
      "✅ In Answer Relevance, input prompt will be set to __record__.main_input or `Select.RecordInput` .\n",
      "✅ In Answer Relevance, input response will be set to __record__.main_output or `Select.RecordOutput` .\n",
      "✅ In Context Relevance, input prompt will be set to __record__.main_input or `Select.RecordInput` .\n",
      "✅ In Context Relevance, input response will be set to __record__.app.query.rets.source_nodes[:].node.text .\n",
      "✅ In Groundedness, input source will be set to __record__.app.query.rets.source_nodes[:].node.text .\n",
      "✅ In Groundedness, input statement will be set to __record__.main_output or `Select.RecordOutput` .\n"
     ]
    },
    {
     "name": "stderr",
     "output_type": "stream",
     "text": [
      "[nltk_data] Downloading package punkt to\n",
      "[nltk_data]     C:\\Users\\user\\AppData\\Roaming\\nltk_data...\n",
      "[nltk_data]   Package punkt is already up-to-date!\n"
     ]
    }
   ],
   "source": [
    "# imports\n",
    "import sys\n",
    "import os\n",
    "import pandas as pd\n",
    "sys.path.append(os.getcwd()[:-10]+'\\\\source')\n",
    "from rag_model import RagModel, SentenceWindowRagModel, AutomergeRagModel, ChatRagModel\n",
    "from eval_utils import get_prebuilt_trulens_recorder, score_histogram, score_boxplot\n",
    "from trulens_eval import Tru"
   ]
  },
  {
   "cell_type": "markdown",
   "metadata": {},
   "source": [
    "I made some questions based on the 1300 Medium Articles Dataset. I wil use them later for models evaluation"
   ]
  },
  {
   "cell_type": "code",
   "execution_count": 3,
   "metadata": {},
   "outputs": [],
   "source": [
    "eval_questions = ['What is Word2vec?', 'Databricks: How to Save Data Frames as CSV Files on Your Local Computer?', 'What is What-If Tool?', 'Transfer Learning?', 'Neural Turing Machines?',\n",
    "                  'Do human beings have the most densely packed set of neurons?', 'What are 4 main types of hackathons?', ' What is the problem of Reinforcement Learning', 'When to use PCA?'\n",
    "                  'What does ARIMA explains?', 'What does Microsoft Power BI offer?', 'What is the primary reason for Tableau popularity?', 'What does Linear regression models?']"
   ]
  },
  {
   "cell_type": "code",
   "execution_count": 4,
   "metadata": {},
   "outputs": [],
   "source": [
    "sample_question = 'What is neuron according to the Neuron Doctrine'"
   ]
  },
  {
   "cell_type": "markdown",
   "metadata": {},
   "source": [
    "For the sample question above model should return a fragment from this paragraph:\n",
    "\n",
    "**Paragraph**: According to the Neuron Doctrine, the neuron is the fundamental structural and functional unit of the brain. Neurons pass information to other neurons in the form of electrical impulses from dendrites to axon via cell body. This requires maintenance of ionic potential difference between inside and outside which takes up around 20 % of the daily glucose consumption of the body. Myelin sheath aides in fast lossless long-distance communication of electrical impulses spikes by wrapping around the axon. This happens by a mechanism called Saltatory Conduction where the spike hops from one Node of Ranvier (myelin-sheath gaps) to the other. This show how beautifully the brain encompasses the concept of lossless signal transmission. Connections between two neurons is called a synapse which can be of electrical and chemical nature both. Electrical for fast transmission for functions such as reflex, chemical for learning and memory. Firing the neurons is an energy-intensive process hence all neurons are not firing at the same time. This signals that there might be an amazing energy optimising scheduling algorithm embedded in the brain. The concept of weights in the neural networks probably was inspired from the concept of Hebbian Plasticity which is often understood as Cells that fire together wire together. There are various important components of the brain and each of them are connected with each other. The most interesting one for me is Thalamus which is like a base station, takes the input signals from our sensory organs and then passes it onto the cerebral cortex which is often called the star of the show. The brain is great when it comes to resource management. Many of the tasks that the brain performs are done unconsciously because of which we can multitask something like massive parallel computing. There are many sub networks of neurons that also forms part of a bigger network and connected to smaller networks as well. When it comes to learning and memory brain has different ways in place.\n"
   ]
  },
  {
   "cell_type": "code",
   "execution_count": 5,
   "metadata": {},
   "outputs": [],
   "source": [
    "# read data\n",
    "df = pd.read_csv(os.getcwd()[:-10]+'\\\\data\\\\medium.csv')"
   ]
  },
  {
   "cell_type": "markdown",
   "metadata": {},
   "source": [
    "For testing RAG models I used [TruLens-Eval](https://pypi.org/project/trulens-eval/). TruLens-Eval is used for evaluating performance of various LLM experiments."
   ]
  },
  {
   "cell_type": "code",
   "execution_count": 6,
   "metadata": {},
   "outputs": [
    {
     "name": "stdout",
     "output_type": "stream",
     "text": [
      "🦑 Tru initialized with db url sqlite:///default.sqlite .\n",
      "🛑 Secret keys may be written to the database. See the `database_redact_keys` option of Tru` to prevent this.\n"
     ]
    }
   ],
   "source": [
    "tru = Tru()"
   ]
  },
  {
   "cell_type": "markdown",
   "metadata": {},
   "source": [
    "Before discussing the results, it would be beneficial to outline the criteria I will use for rating the model. I used so called _'The RAG Triad'_:\n",
    "\n",
    "- __Groundedness__: Assesses how well the generated answers are supported by the content of the documents.\n",
    "\n",
    "- __Context Relevance__: evaluates the relevance of retrieved context by analyzing the structure of serialized records, ensuring that each chunk of context is pertinent to the input query to prevent hallucinations.\n",
    "\n",
    "- __Answer Relevance__: examines the final response's relevance to the original query, ensuring that it effectively addresses the user's input, thus providing helpful and pertinent answers without straying from the intended topic.\n",
    "\n",
    "\n",
    "It is also important to consider latency and total cost. Optimizing these factors reduces waiting times and costs, respectively."
   ]
  },
  {
   "cell_type": "markdown",
   "metadata": {},
   "source": [
    "![Rag Triad](../images/Rag_Triad.jpg)\n"
   ]
  },
  {
   "cell_type": "markdown",
   "metadata": {},
   "source": [
    "## Initial Model"
   ]
  },
  {
   "cell_type": "markdown",
   "metadata": {},
   "source": [
    "This model is quite simple. It follows the basic RAG pipeline (diagram below). At the beginning, text from a pandas dataframe is parsed. After that, based on the chunk size, the text is split, embedded, and stored as vectors using [Vector Store Index](https://docs.llamaindex.ai/en/stable/module_guides/indexing/vector_store_index/). Retrieval involves the engine receiving a query and searching the index for the k most similar embeddings, returning the response."
   ]
  },
  {
   "cell_type": "markdown",
   "metadata": {},
   "source": [
    "<p align=\"center\">\n",
    "  <img src=\"../images/basic_rag_pipeline.png\" alt=\"Rag pipeline\">\n",
    "</p>\n"
   ]
  },
  {
   "cell_type": "markdown",
   "metadata": {},
   "source": [
    "It offers many space for optimization taking parameters such as:\n",
    "- __top_k__: number of embeding, which model returns\n",
    "- __similiarity_cutoff__: Used to remove nodes that are below a similarity score threshold\n",
    "- __chunk_size__: Determines the size of text segments for embedding.\n",
    "- __chunk_overlap__: Specifies the overlap between adjacent chunks.\n",
    "\n",
    "\n",
    "Optimizing these parameters can enhance the efficiency of the model. After conducting several tests, I decided to utilize the parameters specified in the instance object below, as they provide an optimal balance between fragment length and content richness. Further improvements to this model could involve adjusting hyperparameters, for example, by implementing techniques outlined in [this article](https://www.llamaindex.ai/blog/evaluating-the-ideal-chunk-size-for-a-rag-system-using-llamaindex-6207e5d3fec5). However, it's important to note that finding the optimal hyperparameters would require a broader tuning range for each parameter than presented in this article. Such task would demand significant computing power.\n",
    "\n"
   ]
  },
  {
   "cell_type": "code",
   "execution_count": 7,
   "metadata": {},
   "outputs": [],
   "source": [
    "import nest_asyncio\n",
    "nest_asyncio.apply()\n",
    "model1 = RagModel(df, top_k=12, similiarity_cutoff=0.7, chunk_size=256, chunk_overlap=64)\n",
    "await model1.create_engine()"
   ]
  },
  {
   "cell_type": "markdown",
   "metadata": {},
   "source": [
    "Model's response to the prompt shows that It succesfully retrieved wanted fragment."
   ]
  },
  {
   "cell_type": "code",
   "execution_count": 8,
   "metadata": {},
   "outputs": [
    {
     "data": {
      "text/plain": [
       "'The neuron, according to the Neuron Doctrine, is considered the fundamental structural and functional unit of the brain.'"
      ]
     },
     "execution_count": 8,
     "metadata": {},
     "output_type": "execute_result"
    }
   ],
   "source": [
    "str(model1.engine.query(sample_question))"
   ]
  },
  {
   "cell_type": "code",
   "execution_count": 9,
   "metadata": {},
   "outputs": [],
   "source": [
    "tru.reset_database()"
   ]
  },
  {
   "cell_type": "code",
   "execution_count": 10,
   "metadata": {},
   "outputs": [],
   "source": [
    "tru_recorder = get_prebuilt_trulens_recorder(model1.engine,\n",
    "                                             app_id=\"Direct Query Engine\")"
   ]
  },
  {
   "cell_type": "code",
   "execution_count": null,
   "metadata": {},
   "outputs": [],
   "source": [
    "with tru_recorder as recording:\n",
    "    for question in eval_questions:\n",
    "        response = model1.engine.query(question)"
   ]
  },
  {
   "cell_type": "code",
   "execution_count": 18,
   "metadata": {},
   "outputs": [],
   "source": [
    "records1, feedback = tru.get_records_and_feedback(app_ids=[])"
   ]
  },
  {
   "cell_type": "markdown",
   "metadata": {},
   "source": [
    "Thie recorda Ddataframe shows many important information about the model. In every row you can see the query prompt and model's output aswell the essential evaluation metrics such as Context Relevance, Groundedness, Answer Relevance. We can optimize the model using these metrics. Additionaly, latency and total cost are shown, which are also important."
   ]
  },
  {
   "cell_type": "code",
   "execution_count": 19,
   "metadata": {},
   "outputs": [
    {
     "data": {
      "text/html": [
       "<div>\n",
       "<style scoped>\n",
       "    .dataframe tbody tr th:only-of-type {\n",
       "        vertical-align: middle;\n",
       "    }\n",
       "\n",
       "    .dataframe tbody tr th {\n",
       "        vertical-align: top;\n",
       "    }\n",
       "\n",
       "    .dataframe thead th {\n",
       "        text-align: right;\n",
       "    }\n",
       "</style>\n",
       "<table border=\"1\" class=\"dataframe\">\n",
       "  <thead>\n",
       "    <tr style=\"text-align: right;\">\n",
       "      <th></th>\n",
       "      <th>app_id</th>\n",
       "      <th>app_json</th>\n",
       "      <th>type</th>\n",
       "      <th>record_id</th>\n",
       "      <th>input</th>\n",
       "      <th>output</th>\n",
       "      <th>tags</th>\n",
       "      <th>record_json</th>\n",
       "      <th>cost_json</th>\n",
       "      <th>perf_json</th>\n",
       "      <th>ts</th>\n",
       "      <th>Answer Relevance</th>\n",
       "      <th>Context Relevance</th>\n",
       "      <th>Groundedness</th>\n",
       "      <th>Answer Relevance_calls</th>\n",
       "      <th>Context Relevance_calls</th>\n",
       "      <th>Groundedness_calls</th>\n",
       "      <th>latency</th>\n",
       "      <th>total_tokens</th>\n",
       "      <th>total_cost</th>\n",
       "    </tr>\n",
       "  </thead>\n",
       "  <tbody>\n",
       "    <tr>\n",
       "      <th>0</th>\n",
       "      <td>Direct Query Engine</td>\n",
       "      <td>{\"tru_class_info\": {\"name\": \"TruLlama\", \"modul...</td>\n",
       "      <td>RetrieverQueryEngine(llama_index.core.query_en...</td>\n",
       "      <td>record_hash_e7205ddf96a7900ece2023b14a169eb7</td>\n",
       "      <td>\"What is Word2vec?\"</td>\n",
       "      <td>\"Word2vec is a two-layer neural network that p...</td>\n",
       "      <td>-</td>\n",
       "      <td>{\"record_id\": \"record_hash_e7205ddf96a7900ece2...</td>\n",
       "      <td>{\"n_requests\": 2, \"n_successful_requests\": 2, ...</td>\n",
       "      <td>{\"start_time\": \"2024-04-09T00:45:12.286371\", \"...</td>\n",
       "      <td>2024-04-09T00:45:19.366352</td>\n",
       "      <td>1.0</td>\n",
       "      <td>0.550000</td>\n",
       "      <td>1.0</td>\n",
       "      <td>[{'args': {'prompt': 'What is Word2vec?', 'res...</td>\n",
       "      <td>[{'args': {'prompt': 'What is Word2vec?', 'res...</td>\n",
       "      <td>[{'args': {'source': '\"it was the worst of tim...</td>\n",
       "      <td>7</td>\n",
       "      <td>3066</td>\n",
       "      <td>0.004632</td>\n",
       "    </tr>\n",
       "    <tr>\n",
       "      <th>1</th>\n",
       "      <td>Direct Query Engine</td>\n",
       "      <td>{\"tru_class_info\": {\"name\": \"TruLlama\", \"modul...</td>\n",
       "      <td>RetrieverQueryEngine(llama_index.core.query_en...</td>\n",
       "      <td>record_hash_f91f1c0fa44c00ae205f9ff3a699fa57</td>\n",
       "      <td>\"Databricks: How to Save Data Frames as CSV Fi...</td>\n",
       "      <td>\"To save data frames from Databricks into CSV ...</td>\n",
       "      <td>-</td>\n",
       "      <td>{\"record_id\": \"record_hash_f91f1c0fa44c00ae205...</td>\n",
       "      <td>{\"n_requests\": 2, \"n_successful_requests\": 2, ...</td>\n",
       "      <td>{\"start_time\": \"2024-04-09T00:45:19.916258\", \"...</td>\n",
       "      <td>2024-04-09T00:45:27.584021</td>\n",
       "      <td>0.9</td>\n",
       "      <td>0.325000</td>\n",
       "      <td>0.2</td>\n",
       "      <td>[{'args': {'prompt': 'Databricks: How to Save ...</td>\n",
       "      <td>[{'args': {'prompt': 'Databricks: How to Save ...</td>\n",
       "      <td>[{'args': {'source': 'Databricks: How to Save ...</td>\n",
       "      <td>7</td>\n",
       "      <td>3006</td>\n",
       "      <td>0.004547</td>\n",
       "    </tr>\n",
       "    <tr>\n",
       "      <th>2</th>\n",
       "      <td>Direct Query Engine</td>\n",
       "      <td>{\"tru_class_info\": {\"name\": \"TruLlama\", \"modul...</td>\n",
       "      <td>RetrieverQueryEngine(llama_index.core.query_en...</td>\n",
       "      <td>record_hash_c64231de62d79df57637b79353da638b</td>\n",
       "      <td>\"What is What-If Tool?\"</td>\n",
       "      <td>\"The What-If Tool is a tool designed for speed...</td>\n",
       "      <td>-</td>\n",
       "      <td>{\"record_id\": \"record_hash_c64231de62d79df5763...</td>\n",
       "      <td>{\"n_requests\": 2, \"n_successful_requests\": 2, ...</td>\n",
       "      <td>{\"start_time\": \"2024-04-09T00:45:28.165727\", \"...</td>\n",
       "      <td>2024-04-09T00:45:35.952241</td>\n",
       "      <td>1.0</td>\n",
       "      <td>0.575000</td>\n",
       "      <td>1.0</td>\n",
       "      <td>[{'args': {'prompt': 'What is What-If Tool?', ...</td>\n",
       "      <td>[{'args': {'prompt': 'What is What-If Tool?', ...</td>\n",
       "      <td>[{'args': {'source': 'and here’s a question fo...</td>\n",
       "      <td>7</td>\n",
       "      <td>3247</td>\n",
       "      <td>0.004897</td>\n",
       "    </tr>\n",
       "    <tr>\n",
       "      <th>3</th>\n",
       "      <td>Direct Query Engine</td>\n",
       "      <td>{\"tru_class_info\": {\"name\": \"TruLlama\", \"modul...</td>\n",
       "      <td>RetrieverQueryEngine(llama_index.core.query_en...</td>\n",
       "      <td>record_hash_b4750f474e1add8f299ceff95f7cd9d8</td>\n",
       "      <td>\"Transfer Learning?\"</td>\n",
       "      <td>\"Transfer Learning is a method that involves u...</td>\n",
       "      <td>-</td>\n",
       "      <td>{\"record_id\": \"record_hash_b4750f474e1add8f299...</td>\n",
       "      <td>{\"n_requests\": 2, \"n_successful_requests\": 2, ...</td>\n",
       "      <td>{\"start_time\": \"2024-04-09T00:45:36.582711\", \"...</td>\n",
       "      <td>2024-04-09T00:45:44.784726</td>\n",
       "      <td>1.0</td>\n",
       "      <td>0.816667</td>\n",
       "      <td>1.0</td>\n",
       "      <td>[{'args': {'prompt': 'Transfer Learning?', 're...</td>\n",
       "      <td>[{'args': {'prompt': 'Transfer Learning?', 're...</td>\n",
       "      <td>[{'args': {'source': 'model, such as Google’s ...</td>\n",
       "      <td>8</td>\n",
       "      <td>2964</td>\n",
       "      <td>0.004486</td>\n",
       "    </tr>\n",
       "    <tr>\n",
       "      <th>4</th>\n",
       "      <td>Direct Query Engine</td>\n",
       "      <td>{\"tru_class_info\": {\"name\": \"TruLlama\", \"modul...</td>\n",
       "      <td>RetrieverQueryEngine(llama_index.core.query_en...</td>\n",
       "      <td>record_hash_9197c2c7fb063e17069bf4bd72bb479d</td>\n",
       "      <td>\"Neural Turing Machines?\"</td>\n",
       "      <td>\"Neural Turing Machines are designed with an a...</td>\n",
       "      <td>-</td>\n",
       "      <td>{\"record_id\": \"record_hash_9197c2c7fb063e17069...</td>\n",
       "      <td>{\"n_requests\": 2, \"n_successful_requests\": 2, ...</td>\n",
       "      <td>{\"start_time\": \"2024-04-09T00:45:45.334240\", \"...</td>\n",
       "      <td>2024-04-09T00:45:52.690865</td>\n",
       "      <td>1.0</td>\n",
       "      <td>0.608333</td>\n",
       "      <td>1.0</td>\n",
       "      <td>[{'args': {'prompt': 'Neural Turing Machines?'...</td>\n",
       "      <td>[{'args': {'prompt': 'Neural Turing Machines?'...</td>\n",
       "      <td>[{'args': {'source': 'the signal to pass throu...</td>\n",
       "      <td>7</td>\n",
       "      <td>2860</td>\n",
       "      <td>0.004309</td>\n",
       "    </tr>\n",
       "  </tbody>\n",
       "</table>\n",
       "</div>"
      ],
      "text/plain": [
       "                app_id                                           app_json  \\\n",
       "0  Direct Query Engine  {\"tru_class_info\": {\"name\": \"TruLlama\", \"modul...   \n",
       "1  Direct Query Engine  {\"tru_class_info\": {\"name\": \"TruLlama\", \"modul...   \n",
       "2  Direct Query Engine  {\"tru_class_info\": {\"name\": \"TruLlama\", \"modul...   \n",
       "3  Direct Query Engine  {\"tru_class_info\": {\"name\": \"TruLlama\", \"modul...   \n",
       "4  Direct Query Engine  {\"tru_class_info\": {\"name\": \"TruLlama\", \"modul...   \n",
       "\n",
       "                                                type  \\\n",
       "0  RetrieverQueryEngine(llama_index.core.query_en...   \n",
       "1  RetrieverQueryEngine(llama_index.core.query_en...   \n",
       "2  RetrieverQueryEngine(llama_index.core.query_en...   \n",
       "3  RetrieverQueryEngine(llama_index.core.query_en...   \n",
       "4  RetrieverQueryEngine(llama_index.core.query_en...   \n",
       "\n",
       "                                      record_id  \\\n",
       "0  record_hash_e7205ddf96a7900ece2023b14a169eb7   \n",
       "1  record_hash_f91f1c0fa44c00ae205f9ff3a699fa57   \n",
       "2  record_hash_c64231de62d79df57637b79353da638b   \n",
       "3  record_hash_b4750f474e1add8f299ceff95f7cd9d8   \n",
       "4  record_hash_9197c2c7fb063e17069bf4bd72bb479d   \n",
       "\n",
       "                                               input  \\\n",
       "0                                \"What is Word2vec?\"   \n",
       "1  \"Databricks: How to Save Data Frames as CSV Fi...   \n",
       "2                            \"What is What-If Tool?\"   \n",
       "3                               \"Transfer Learning?\"   \n",
       "4                          \"Neural Turing Machines?\"   \n",
       "\n",
       "                                              output tags  \\\n",
       "0  \"Word2vec is a two-layer neural network that p...    -   \n",
       "1  \"To save data frames from Databricks into CSV ...    -   \n",
       "2  \"The What-If Tool is a tool designed for speed...    -   \n",
       "3  \"Transfer Learning is a method that involves u...    -   \n",
       "4  \"Neural Turing Machines are designed with an a...    -   \n",
       "\n",
       "                                         record_json  \\\n",
       "0  {\"record_id\": \"record_hash_e7205ddf96a7900ece2...   \n",
       "1  {\"record_id\": \"record_hash_f91f1c0fa44c00ae205...   \n",
       "2  {\"record_id\": \"record_hash_c64231de62d79df5763...   \n",
       "3  {\"record_id\": \"record_hash_b4750f474e1add8f299...   \n",
       "4  {\"record_id\": \"record_hash_9197c2c7fb063e17069...   \n",
       "\n",
       "                                           cost_json  \\\n",
       "0  {\"n_requests\": 2, \"n_successful_requests\": 2, ...   \n",
       "1  {\"n_requests\": 2, \"n_successful_requests\": 2, ...   \n",
       "2  {\"n_requests\": 2, \"n_successful_requests\": 2, ...   \n",
       "3  {\"n_requests\": 2, \"n_successful_requests\": 2, ...   \n",
       "4  {\"n_requests\": 2, \"n_successful_requests\": 2, ...   \n",
       "\n",
       "                                           perf_json  \\\n",
       "0  {\"start_time\": \"2024-04-09T00:45:12.286371\", \"...   \n",
       "1  {\"start_time\": \"2024-04-09T00:45:19.916258\", \"...   \n",
       "2  {\"start_time\": \"2024-04-09T00:45:28.165727\", \"...   \n",
       "3  {\"start_time\": \"2024-04-09T00:45:36.582711\", \"...   \n",
       "4  {\"start_time\": \"2024-04-09T00:45:45.334240\", \"...   \n",
       "\n",
       "                           ts  Answer Relevance  Context Relevance  \\\n",
       "0  2024-04-09T00:45:19.366352               1.0           0.550000   \n",
       "1  2024-04-09T00:45:27.584021               0.9           0.325000   \n",
       "2  2024-04-09T00:45:35.952241               1.0           0.575000   \n",
       "3  2024-04-09T00:45:44.784726               1.0           0.816667   \n",
       "4  2024-04-09T00:45:52.690865               1.0           0.608333   \n",
       "\n",
       "   Groundedness                             Answer Relevance_calls  \\\n",
       "0           1.0  [{'args': {'prompt': 'What is Word2vec?', 'res...   \n",
       "1           0.2  [{'args': {'prompt': 'Databricks: How to Save ...   \n",
       "2           1.0  [{'args': {'prompt': 'What is What-If Tool?', ...   \n",
       "3           1.0  [{'args': {'prompt': 'Transfer Learning?', 're...   \n",
       "4           1.0  [{'args': {'prompt': 'Neural Turing Machines?'...   \n",
       "\n",
       "                             Context Relevance_calls  \\\n",
       "0  [{'args': {'prompt': 'What is Word2vec?', 'res...   \n",
       "1  [{'args': {'prompt': 'Databricks: How to Save ...   \n",
       "2  [{'args': {'prompt': 'What is What-If Tool?', ...   \n",
       "3  [{'args': {'prompt': 'Transfer Learning?', 're...   \n",
       "4  [{'args': {'prompt': 'Neural Turing Machines?'...   \n",
       "\n",
       "                                  Groundedness_calls  latency  total_tokens  \\\n",
       "0  [{'args': {'source': '\"it was the worst of tim...        7          3066   \n",
       "1  [{'args': {'source': 'Databricks: How to Save ...        7          3006   \n",
       "2  [{'args': {'source': 'and here’s a question fo...        7          3247   \n",
       "3  [{'args': {'source': 'model, such as Google’s ...        8          2964   \n",
       "4  [{'args': {'source': 'the signal to pass throu...        7          2860   \n",
       "\n",
       "   total_cost  \n",
       "0    0.004632  \n",
       "1    0.004547  \n",
       "2    0.004897  \n",
       "3    0.004486  \n",
       "4    0.004309  "
      ]
     },
     "execution_count": 19,
     "metadata": {},
     "output_type": "execute_result"
    }
   ],
   "source": [
    "records1.head()"
   ]
  },
  {
   "cell_type": "markdown",
   "metadata": {},
   "source": [
    "I visualized values frequency for every RAG Triad metric."
   ]
  },
  {
   "cell_type": "code",
   "execution_count": 24,
   "metadata": {},
   "outputs": [
    {
     "data": {
      "image/png": "[encoded data removed]",
      "text/plain": [
       "<Figure size 1000x600 with 1 Axes>"
      ]
     },
     "metadata": {},
     "output_type": "display_data"
    }
   ],
   "source": [
    "score_histogram(records1, 'Groundedness', 'Initial Model')"
   ]
  },
  {
   "cell_type": "markdown",
   "metadata": {},
   "source": [
    "The model performs well in terms of Groundedness except for one question from the evaluation questions list. Let's see which question it is using the following code. \n",
    "\n",
    "The issue might be the limited number of test questions, which I prepared; with more questions, the results distribution could be more representative."
   ]
  },
  {
   "cell_type": "code",
   "execution_count": 25,
   "metadata": {},
   "outputs": [
    {
     "data": {
      "text/html": [
       "<div>\n",
       "<style scoped>\n",
       "    .dataframe tbody tr th:only-of-type {\n",
       "        vertical-align: middle;\n",
       "    }\n",
       "\n",
       "    .dataframe tbody tr th {\n",
       "        vertical-align: top;\n",
       "    }\n",
       "\n",
       "    .dataframe thead th {\n",
       "        text-align: right;\n",
       "    }\n",
       "</style>\n",
       "<table border=\"1\" class=\"dataframe\">\n",
       "  <thead>\n",
       "    <tr style=\"text-align: right;\">\n",
       "      <th></th>\n",
       "      <th>app_id</th>\n",
       "      <th>app_json</th>\n",
       "      <th>type</th>\n",
       "      <th>record_id</th>\n",
       "      <th>input</th>\n",
       "      <th>output</th>\n",
       "      <th>tags</th>\n",
       "      <th>record_json</th>\n",
       "      <th>cost_json</th>\n",
       "      <th>perf_json</th>\n",
       "      <th>ts</th>\n",
       "      <th>Answer Relevance</th>\n",
       "      <th>Context Relevance</th>\n",
       "      <th>Groundedness</th>\n",
       "      <th>Answer Relevance_calls</th>\n",
       "      <th>Context Relevance_calls</th>\n",
       "      <th>Groundedness_calls</th>\n",
       "      <th>latency</th>\n",
       "      <th>total_tokens</th>\n",
       "      <th>total_cost</th>\n",
       "    </tr>\n",
       "  </thead>\n",
       "  <tbody>\n",
       "    <tr>\n",
       "      <th>1</th>\n",
       "      <td>Direct Query Engine</td>\n",
       "      <td>{\"tru_class_info\": {\"name\": \"TruLlama\", \"modul...</td>\n",
       "      <td>RetrieverQueryEngine(llama_index.core.query_en...</td>\n",
       "      <td>record_hash_f91f1c0fa44c00ae205f9ff3a699fa57</td>\n",
       "      <td>\"Databricks: How to Save Data Frames as CSV Fi...</td>\n",
       "      <td>\"To save data frames from Databricks into CSV ...</td>\n",
       "      <td>-</td>\n",
       "      <td>{\"record_id\": \"record_hash_f91f1c0fa44c00ae205...</td>\n",
       "      <td>{\"n_requests\": 2, \"n_successful_requests\": 2, ...</td>\n",
       "      <td>{\"start_time\": \"2024-04-09T00:45:19.916258\", \"...</td>\n",
       "      <td>2024-04-09T00:45:27.584021</td>\n",
       "      <td>0.9</td>\n",
       "      <td>0.325</td>\n",
       "      <td>0.2</td>\n",
       "      <td>[{'args': {'prompt': 'Databricks: How to Save ...</td>\n",
       "      <td>[{'args': {'prompt': 'Databricks: How to Save ...</td>\n",
       "      <td>[{'args': {'source': 'Databricks: How to Save ...</td>\n",
       "      <td>7</td>\n",
       "      <td>3006</td>\n",
       "      <td>0.004547</td>\n",
       "    </tr>\n",
       "  </tbody>\n",
       "</table>\n",
       "</div>"
      ],
      "text/plain": [
       "                app_id                                           app_json  \\\n",
       "1  Direct Query Engine  {\"tru_class_info\": {\"name\": \"TruLlama\", \"modul...   \n",
       "\n",
       "                                                type  \\\n",
       "1  RetrieverQueryEngine(llama_index.core.query_en...   \n",
       "\n",
       "                                      record_id  \\\n",
       "1  record_hash_f91f1c0fa44c00ae205f9ff3a699fa57   \n",
       "\n",
       "                                               input  \\\n",
       "1  \"Databricks: How to Save Data Frames as CSV Fi...   \n",
       "\n",
       "                                              output tags  \\\n",
       "1  \"To save data frames from Databricks into CSV ...    -   \n",
       "\n",
       "                                         record_json  \\\n",
       "1  {\"record_id\": \"record_hash_f91f1c0fa44c00ae205...   \n",
       "\n",
       "                                           cost_json  \\\n",
       "1  {\"n_requests\": 2, \"n_successful_requests\": 2, ...   \n",
       "\n",
       "                                           perf_json  \\\n",
       "1  {\"start_time\": \"2024-04-09T00:45:19.916258\", \"...   \n",
       "\n",
       "                           ts  Answer Relevance  Context Relevance  \\\n",
       "1  2024-04-09T00:45:27.584021               0.9              0.325   \n",
       "\n",
       "   Groundedness                             Answer Relevance_calls  \\\n",
       "1           0.2  [{'args': {'prompt': 'Databricks: How to Save ...   \n",
       "\n",
       "                             Context Relevance_calls  \\\n",
       "1  [{'args': {'prompt': 'Databricks: How to Save ...   \n",
       "\n",
       "                                  Groundedness_calls  latency  total_tokens  \\\n",
       "1  [{'args': {'source': 'Databricks: How to Save ...        7          3006   \n",
       "\n",
       "   total_cost  \n",
       "1    0.004547  "
      ]
     },
     "execution_count": 25,
     "metadata": {},
     "output_type": "execute_result"
    }
   ],
   "source": [
    "records1[records1['Groundedness'] <= 0.2]"
   ]
  },
  {
   "cell_type": "code",
   "execution_count": 21,
   "metadata": {},
   "outputs": [
    {
     "data": {
      "image/png": "[encoded data removed]",
      "text/plain": [
       "<Figure size 1000x600 with 1 Axes>"
      ]
     },
     "metadata": {},
     "output_type": "display_data"
    }
   ],
   "source": [
    "score_histogram(records1, 'Context Relevance', 'Initial Model')"
   ]
  },
  {
   "cell_type": "markdown",
   "metadata": {},
   "source": [
    "As can be seen on the histogram above this model has much worse Context Relevance than Groundedness in most cases. \n",
    "\n",
    "Again, I displayed the query with an exceptionally low score, and I will be doing the same for other models in the further part of the notebook."
   ]
  },
  {
   "cell_type": "code",
   "execution_count": 26,
   "metadata": {},
   "outputs": [
    {
     "data": {
      "text/html": [
       "<div>\n",
       "<style scoped>\n",
       "    .dataframe tbody tr th:only-of-type {\n",
       "        vertical-align: middle;\n",
       "    }\n",
       "\n",
       "    .dataframe tbody tr th {\n",
       "        vertical-align: top;\n",
       "    }\n",
       "\n",
       "    .dataframe thead th {\n",
       "        text-align: right;\n",
       "    }\n",
       "</style>\n",
       "<table border=\"1\" class=\"dataframe\">\n",
       "  <thead>\n",
       "    <tr style=\"text-align: right;\">\n",
       "      <th></th>\n",
       "      <th>app_id</th>\n",
       "      <th>app_json</th>\n",
       "      <th>type</th>\n",
       "      <th>record_id</th>\n",
       "      <th>input</th>\n",
       "      <th>output</th>\n",
       "      <th>tags</th>\n",
       "      <th>record_json</th>\n",
       "      <th>cost_json</th>\n",
       "      <th>perf_json</th>\n",
       "      <th>ts</th>\n",
       "      <th>Answer Relevance</th>\n",
       "      <th>Context Relevance</th>\n",
       "      <th>Groundedness</th>\n",
       "      <th>Answer Relevance_calls</th>\n",
       "      <th>Context Relevance_calls</th>\n",
       "      <th>Groundedness_calls</th>\n",
       "      <th>latency</th>\n",
       "      <th>total_tokens</th>\n",
       "      <th>total_cost</th>\n",
       "    </tr>\n",
       "  </thead>\n",
       "  <tbody>\n",
       "    <tr>\n",
       "      <th>6</th>\n",
       "      <td>Direct Query Engine</td>\n",
       "      <td>{\"tru_class_info\": {\"name\": \"TruLlama\", \"modul...</td>\n",
       "      <td>RetrieverQueryEngine(llama_index.core.query_en...</td>\n",
       "      <td>record_hash_6074d4d5089436df25736ecd8b6d1765</td>\n",
       "      <td>\"What are 4 main types of hackathons?\"</td>\n",
       "      <td>\"The four main types of hackathons are Data Sc...</td>\n",
       "      <td>-</td>\n",
       "      <td>{\"record_id\": \"record_hash_6074d4d5089436df257...</td>\n",
       "      <td>{\"n_requests\": 2, \"n_successful_requests\": 2, ...</td>\n",
       "      <td>{\"start_time\": \"2024-04-09T00:46:00.288127\", \"...</td>\n",
       "      <td>2024-04-09T00:46:06.725460</td>\n",
       "      <td>1.0</td>\n",
       "      <td>0.033333</td>\n",
       "      <td>1.0</td>\n",
       "      <td>[{'args': {'prompt': 'What are 4 main types of...</td>\n",
       "      <td>[{'args': {'prompt': 'What are 4 main types of...</td>\n",
       "      <td>[{'args': {'source': '3 Essential Persons Need...</td>\n",
       "      <td>6</td>\n",
       "      <td>3227</td>\n",
       "      <td>0.004841</td>\n",
       "    </tr>\n",
       "  </tbody>\n",
       "</table>\n",
       "</div>"
      ],
      "text/plain": [
       "                app_id                                           app_json  \\\n",
       "6  Direct Query Engine  {\"tru_class_info\": {\"name\": \"TruLlama\", \"modul...   \n",
       "\n",
       "                                                type  \\\n",
       "6  RetrieverQueryEngine(llama_index.core.query_en...   \n",
       "\n",
       "                                      record_id  \\\n",
       "6  record_hash_6074d4d5089436df25736ecd8b6d1765   \n",
       "\n",
       "                                    input  \\\n",
       "6  \"What are 4 main types of hackathons?\"   \n",
       "\n",
       "                                              output tags  \\\n",
       "6  \"The four main types of hackathons are Data Sc...    -   \n",
       "\n",
       "                                         record_json  \\\n",
       "6  {\"record_id\": \"record_hash_6074d4d5089436df257...   \n",
       "\n",
       "                                           cost_json  \\\n",
       "6  {\"n_requests\": 2, \"n_successful_requests\": 2, ...   \n",
       "\n",
       "                                           perf_json  \\\n",
       "6  {\"start_time\": \"2024-04-09T00:46:00.288127\", \"...   \n",
       "\n",
       "                           ts  Answer Relevance  Context Relevance  \\\n",
       "6  2024-04-09T00:46:06.725460               1.0           0.033333   \n",
       "\n",
       "   Groundedness                             Answer Relevance_calls  \\\n",
       "6           1.0  [{'args': {'prompt': 'What are 4 main types of...   \n",
       "\n",
       "                             Context Relevance_calls  \\\n",
       "6  [{'args': {'prompt': 'What are 4 main types of...   \n",
       "\n",
       "                                  Groundedness_calls  latency  total_tokens  \\\n",
       "6  [{'args': {'source': '3 Essential Persons Need...        6          3227   \n",
       "\n",
       "   total_cost  \n",
       "6    0.004841  "
      ]
     },
     "execution_count": 26,
     "metadata": {},
     "output_type": "execute_result"
    }
   ],
   "source": [
    "records1[records1['Context Relevance'] <= 0.1]"
   ]
  },
  {
   "cell_type": "code",
   "execution_count": 20,
   "metadata": {},
   "outputs": [
    {
     "data": {
      "image/png": "[encoded data removed]",
      "text/plain": [
       "<Figure size 1000x600 with 1 Axes>"
      ]
     },
     "metadata": {},
     "output_type": "display_data"
    }
   ],
   "source": [
    "score_histogram(records1, 'Answer Relevance', 'Initial Model')"
   ]
  },
  {
   "cell_type": "markdown",
   "metadata": {},
   "source": [
    "The model exhibited remarkable Answer Relevance, indicating its effectiveness in addressing the given query."
   ]
  },
  {
   "cell_type": "markdown",
   "metadata": {},
   "source": [
    "Model Summary"
   ]
  },
  {
   "cell_type": "code",
   "execution_count": 23,
   "metadata": {},
   "outputs": [
    {
     "data": {
      "text/html": [
       "<div>\n",
       "<style scoped>\n",
       "    .dataframe tbody tr th:only-of-type {\n",
       "        vertical-align: middle;\n",
       "    }\n",
       "\n",
       "    .dataframe tbody tr th {\n",
       "        vertical-align: top;\n",
       "    }\n",
       "\n",
       "    .dataframe thead th {\n",
       "        text-align: right;\n",
       "    }\n",
       "</style>\n",
       "<table border=\"1\" class=\"dataframe\">\n",
       "  <thead>\n",
       "    <tr style=\"text-align: right;\">\n",
       "      <th></th>\n",
       "      <th>Groundedness</th>\n",
       "      <th>Answer Relevance</th>\n",
       "      <th>Context Relevance</th>\n",
       "      <th>latency</th>\n",
       "      <th>total_cost</th>\n",
       "    </tr>\n",
       "    <tr>\n",
       "      <th>app_id</th>\n",
       "      <th></th>\n",
       "      <th></th>\n",
       "      <th></th>\n",
       "      <th></th>\n",
       "      <th></th>\n",
       "    </tr>\n",
       "  </thead>\n",
       "  <tbody>\n",
       "    <tr>\n",
       "      <th>Direct Query Engine</th>\n",
       "      <td>0.902778</td>\n",
       "      <td>0.95</td>\n",
       "      <td>0.456944</td>\n",
       "      <td>7.0</td>\n",
       "      <td>0.004673</td>\n",
       "    </tr>\n",
       "  </tbody>\n",
       "</table>\n",
       "</div>"
      ],
      "text/plain": [
       "                     Groundedness  Answer Relevance  Context Relevance  \\\n",
       "app_id                                                                   \n",
       "Direct Query Engine      0.902778              0.95           0.456944   \n",
       "\n",
       "                     latency  total_cost  \n",
       "app_id                                    \n",
       "Direct Query Engine      7.0    0.004673  "
      ]
     },
     "execution_count": 23,
     "metadata": {},
     "output_type": "execute_result"
    }
   ],
   "source": [
    "tru.get_leaderboard(app_ids=[])"
   ]
  },
  {
   "cell_type": "markdown",
   "metadata": {},
   "source": [
    "I was able to create a RAG model, which efficiently retrieves data from the index. Model has great Answer Relevance and Groundedness. However, Context Relevance is low, meaning that the retrieved context may contain irrelevant information, potentially leading to hallucinations or inaccurate responses. \n",
    "\n",
    "Model had problems with questions: _'Databricks: How to Save Data Frames as CSV Files on Your Local Computer?'_,  _'What are 4 main types of hackathons?'_."
   ]
  },
  {
   "cell_type": "markdown",
   "metadata": {},
   "source": [
    "## Sentence Window Model"
   ]
  },
  {
   "cell_type": "markdown",
   "metadata": {},
   "source": [
    "Second model implements Sentence Window Retrieval, which enhances context extraction by considering a window of sentences rather than individual sentences. Configuring the window size was the most significant change in the ingestion pipeline. Additionally, I implemented reranking functionality to refine the retrieval results and ensure better contextual relevance for subsequent processing. By broadening the retrieval scope, the model gains access to a wider context, facilitating the generation of more accurate and contextually relevant responses (image below). As a result, the model can capture long-range dependencies and nuances in the given prompt, leading to improved overall performance."
   ]
  },
  {
   "cell_type": "markdown",
   "metadata": {},
   "source": [
    "<p align=\"center\">\n",
    "  <img src=\"../images/sentence_window_schema.png\" alt=\"Sentence Window\">\n",
    "</p>\n"
   ]
  },
  {
   "cell_type": "markdown",
   "metadata": {},
   "source": [
    "Model can be adjusted by changing the _'top_k'_ parameter."
   ]
  },
  {
   "cell_type": "code",
   "execution_count": 27,
   "metadata": {},
   "outputs": [],
   "source": [
    "senetnce_window_model = SentenceWindowRagModel(df, top_k=6)\n",
    "senetnce_window_model.create_engine()"
   ]
  },
  {
   "cell_type": "markdown",
   "metadata": {},
   "source": [
    "The model's response to the prompt is longer compared to the initial model. However, the model retrieved the context from the correct fragment while rephrasing some words."
   ]
  },
  {
   "cell_type": "code",
   "execution_count": 28,
   "metadata": {},
   "outputs": [
    {
     "data": {
      "text/plain": [
       "'According to the Neuron Doctrine, the neuron is considered the fundamental structural and functional unit of the brain. Neurons transmit information to other neurons through electrical impulses that travel from dendrites to axon via the cell body. Maintaining an ionic potential difference between the inside and outside of the neuron requires a significant amount of daily glucose consumption. The myelin sheath plays a crucial role in facilitating fast and lossless long-distance communication of electrical impulses by wrapping around the axon.'"
      ]
     },
     "execution_count": 28,
     "metadata": {},
     "output_type": "execute_result"
    }
   ],
   "source": [
    "str(senetnce_window_model.engine.query(sample_question))"
   ]
  },
  {
   "cell_type": "code",
   "execution_count": 29,
   "metadata": {},
   "outputs": [],
   "source": [
    "tru.reset_database()"
   ]
  },
  {
   "cell_type": "code",
   "execution_count": 30,
   "metadata": {},
   "outputs": [],
   "source": [
    "tru_recorder_sentence_window = get_prebuilt_trulens_recorder(\n",
    "    senetnce_window_model.engine,\n",
    "    app_id = \"Sentence Window Query Engine\"\n",
    ")"
   ]
  },
  {
   "cell_type": "code",
   "execution_count": null,
   "metadata": {},
   "outputs": [],
   "source": [
    "for question in eval_questions:\n",
    "    with tru_recorder_sentence_window as recording:\n",
    "        response = senetnce_window_model.engine.query(question)"
   ]
  },
  {
   "cell_type": "code",
   "execution_count": 32,
   "metadata": {},
   "outputs": [],
   "source": [
    "records2, feedback = tru.get_records_and_feedback(app_ids=[])"
   ]
  },
  {
   "cell_type": "code",
   "execution_count": 33,
   "metadata": {},
   "outputs": [
    {
     "data": {
      "text/html": [
       "<div>\n",
       "<style scoped>\n",
       "    .dataframe tbody tr th:only-of-type {\n",
       "        vertical-align: middle;\n",
       "    }\n",
       "\n",
       "    .dataframe tbody tr th {\n",
       "        vertical-align: top;\n",
       "    }\n",
       "\n",
       "    .dataframe thead th {\n",
       "        text-align: right;\n",
       "    }\n",
       "</style>\n",
       "<table border=\"1\" class=\"dataframe\">\n",
       "  <thead>\n",
       "    <tr style=\"text-align: right;\">\n",
       "      <th></th>\n",
       "      <th>app_id</th>\n",
       "      <th>app_json</th>\n",
       "      <th>type</th>\n",
       "      <th>record_id</th>\n",
       "      <th>input</th>\n",
       "      <th>output</th>\n",
       "      <th>tags</th>\n",
       "      <th>record_json</th>\n",
       "      <th>cost_json</th>\n",
       "      <th>perf_json</th>\n",
       "      <th>ts</th>\n",
       "      <th>Answer Relevance</th>\n",
       "      <th>Context Relevance</th>\n",
       "      <th>Groundedness</th>\n",
       "      <th>Answer Relevance_calls</th>\n",
       "      <th>Context Relevance_calls</th>\n",
       "      <th>Groundedness_calls</th>\n",
       "      <th>latency</th>\n",
       "      <th>total_tokens</th>\n",
       "      <th>total_cost</th>\n",
       "    </tr>\n",
       "  </thead>\n",
       "  <tbody>\n",
       "    <tr>\n",
       "      <th>0</th>\n",
       "      <td>Sentence Window Query Engine</td>\n",
       "      <td>{\"tru_class_info\": {\"name\": \"TruLlama\", \"modul...</td>\n",
       "      <td>RetrieverQueryEngine(llama_index.core.query_en...</td>\n",
       "      <td>record_hash_f564986ccb541c455f1c54c21d1df003</td>\n",
       "      <td>\"What is Word2vec?\"</td>\n",
       "      <td>\"Word2vec is a popular technique used to learn...</td>\n",
       "      <td>-</td>\n",
       "      <td>{\"record_id\": \"record_hash_f564986ccb541c455f1...</td>\n",
       "      <td>{\"n_requests\": 1, \"n_successful_requests\": 1, ...</td>\n",
       "      <td>{\"start_time\": \"2024-04-09T01:04:12.891850\", \"...</td>\n",
       "      <td>2024-04-09T01:04:23.017966</td>\n",
       "      <td>0.9</td>\n",
       "      <td>0.90</td>\n",
       "      <td>1.000000</td>\n",
       "      <td>[{'args': {'prompt': 'What is Word2vec?', 'res...</td>\n",
       "      <td>[{'args': {'prompt': 'What is Word2vec?', 'res...</td>\n",
       "      <td>[{'args': {'source': 'A Beginner’s Guide to Wo...</td>\n",
       "      <td>10</td>\n",
       "      <td>484</td>\n",
       "      <td>0.000768</td>\n",
       "    </tr>\n",
       "    <tr>\n",
       "      <th>1</th>\n",
       "      <td>Sentence Window Query Engine</td>\n",
       "      <td>{\"tru_class_info\": {\"name\": \"TruLlama\", \"modul...</td>\n",
       "      <td>RetrieverQueryEngine(llama_index.core.query_en...</td>\n",
       "      <td>record_hash_5a8a926546079ccfd5bbd5c2a46f1649</td>\n",
       "      <td>\"Databricks: How to Save Data Frames as CSV Fi...</td>\n",
       "      <td>\"To save data frames from Databricks into CSV ...</td>\n",
       "      <td>-</td>\n",
       "      <td>{\"record_id\": \"record_hash_5a8a926546079ccfd5b...</td>\n",
       "      <td>{\"n_requests\": 1, \"n_successful_requests\": 1, ...</td>\n",
       "      <td>{\"start_time\": \"2024-04-09T01:04:23.453620\", \"...</td>\n",
       "      <td>2024-04-09T01:04:36.286194</td>\n",
       "      <td>0.9</td>\n",
       "      <td>0.80</td>\n",
       "      <td>0.833333</td>\n",
       "      <td>[{'args': {'prompt': 'Databricks: How to Save ...</td>\n",
       "      <td>[{'args': {'prompt': 'Databricks: How to Save ...</td>\n",
       "      <td>[{'args': {'source': 'Databricks is a Microsof...</td>\n",
       "      <td>12</td>\n",
       "      <td>567</td>\n",
       "      <td>0.000888</td>\n",
       "    </tr>\n",
       "    <tr>\n",
       "      <th>2</th>\n",
       "      <td>Sentence Window Query Engine</td>\n",
       "      <td>{\"tru_class_info\": {\"name\": \"TruLlama\", \"modul...</td>\n",
       "      <td>RetrieverQueryEngine(llama_index.core.query_en...</td>\n",
       "      <td>record_hash_31879f48cc60c5c5c9d576c854208671</td>\n",
       "      <td>\"What is What-If Tool?\"</td>\n",
       "      <td>\"The What-If Tool is a tool designed for speed...</td>\n",
       "      <td>-</td>\n",
       "      <td>{\"record_id\": \"record_hash_31879f48cc60c5c5c9d...</td>\n",
       "      <td>{\"n_requests\": 1, \"n_successful_requests\": 1, ...</td>\n",
       "      <td>{\"start_time\": \"2024-04-09T01:04:36.701661\", \"...</td>\n",
       "      <td>2024-04-09T01:04:46.959100</td>\n",
       "      <td>0.9</td>\n",
       "      <td>0.50</td>\n",
       "      <td>0.900000</td>\n",
       "      <td>[{'args': {'prompt': 'What is What-If Tool?', ...</td>\n",
       "      <td>[{'args': {'prompt': 'What is What-If Tool?', ...</td>\n",
       "      <td>[{'args': {'source': 'Analytics is not about p...</td>\n",
       "      <td>10</td>\n",
       "      <td>547</td>\n",
       "      <td>0.000862</td>\n",
       "    </tr>\n",
       "    <tr>\n",
       "      <th>3</th>\n",
       "      <td>Sentence Window Query Engine</td>\n",
       "      <td>{\"tru_class_info\": {\"name\": \"TruLlama\", \"modul...</td>\n",
       "      <td>RetrieverQueryEngine(llama_index.core.query_en...</td>\n",
       "      <td>record_hash_ed030c05598a409361ad9c4a6b7ea3b5</td>\n",
       "      <td>\"Transfer Learning?\"</td>\n",
       "      <td>\"Transfer learning involves utilizing pre-exis...</td>\n",
       "      <td>-</td>\n",
       "      <td>{\"record_id\": \"record_hash_ed030c05598a409361a...</td>\n",
       "      <td>{\"n_requests\": 1, \"n_successful_requests\": 1, ...</td>\n",
       "      <td>{\"start_time\": \"2024-04-09T01:04:47.376947\", \"...</td>\n",
       "      <td>2024-04-09T01:04:57.249051</td>\n",
       "      <td>1.0</td>\n",
       "      <td>0.95</td>\n",
       "      <td>1.000000</td>\n",
       "      <td>[{'args': {'prompt': 'Transfer Learning?', 're...</td>\n",
       "      <td>[{'args': {'prompt': 'Transfer Learning?', 're...</td>\n",
       "      <td>[{'args': {'source': 'Transfer Learning.  The ...</td>\n",
       "      <td>9</td>\n",
       "      <td>397</td>\n",
       "      <td>0.000623</td>\n",
       "    </tr>\n",
       "    <tr>\n",
       "      <th>4</th>\n",
       "      <td>Sentence Window Query Engine</td>\n",
       "      <td>{\"tru_class_info\": {\"name\": \"TruLlama\", \"modul...</td>\n",
       "      <td>RetrieverQueryEngine(llama_index.core.query_en...</td>\n",
       "      <td>record_hash_0480cee1e586229bde9ab52d41eb3fff</td>\n",
       "      <td>\"Neural Turing Machines?\"</td>\n",
       "      <td>\"Neural Turing Machines are designed with an a...</td>\n",
       "      <td>-</td>\n",
       "      <td>{\"record_id\": \"record_hash_0480cee1e586229bde9...</td>\n",
       "      <td>{\"n_requests\": 1, \"n_successful_requests\": 1, ...</td>\n",
       "      <td>{\"start_time\": \"2024-04-09T01:04:57.674984\", \"...</td>\n",
       "      <td>2024-04-09T01:05:07.779567</td>\n",
       "      <td>1.0</td>\n",
       "      <td>0.80</td>\n",
       "      <td>0.900000</td>\n",
       "      <td>[{'args': {'prompt': 'Neural Turing Machines?'...</td>\n",
       "      <td>[{'args': {'prompt': 'Neural Turing Machines?'...</td>\n",
       "      <td>[{'args': {'source': 'There is an activation f...</td>\n",
       "      <td>10</td>\n",
       "      <td>570</td>\n",
       "      <td>0.000881</td>\n",
       "    </tr>\n",
       "  </tbody>\n",
       "</table>\n",
       "</div>"
      ],
      "text/plain": [
       "                         app_id  \\\n",
       "0  Sentence Window Query Engine   \n",
       "1  Sentence Window Query Engine   \n",
       "2  Sentence Window Query Engine   \n",
       "3  Sentence Window Query Engine   \n",
       "4  Sentence Window Query Engine   \n",
       "\n",
       "                                            app_json  \\\n",
       "0  {\"tru_class_info\": {\"name\": \"TruLlama\", \"modul...   \n",
       "1  {\"tru_class_info\": {\"name\": \"TruLlama\", \"modul...   \n",
       "2  {\"tru_class_info\": {\"name\": \"TruLlama\", \"modul...   \n",
       "3  {\"tru_class_info\": {\"name\": \"TruLlama\", \"modul...   \n",
       "4  {\"tru_class_info\": {\"name\": \"TruLlama\", \"modul...   \n",
       "\n",
       "                                                type  \\\n",
       "0  RetrieverQueryEngine(llama_index.core.query_en...   \n",
       "1  RetrieverQueryEngine(llama_index.core.query_en...   \n",
       "2  RetrieverQueryEngine(llama_index.core.query_en...   \n",
       "3  RetrieverQueryEngine(llama_index.core.query_en...   \n",
       "4  RetrieverQueryEngine(llama_index.core.query_en...   \n",
       "\n",
       "                                      record_id  \\\n",
       "0  record_hash_f564986ccb541c455f1c54c21d1df003   \n",
       "1  record_hash_5a8a926546079ccfd5bbd5c2a46f1649   \n",
       "2  record_hash_31879f48cc60c5c5c9d576c854208671   \n",
       "3  record_hash_ed030c05598a409361ad9c4a6b7ea3b5   \n",
       "4  record_hash_0480cee1e586229bde9ab52d41eb3fff   \n",
       "\n",
       "                                               input  \\\n",
       "0                                \"What is Word2vec?\"   \n",
       "1  \"Databricks: How to Save Data Frames as CSV Fi...   \n",
       "2                            \"What is What-If Tool?\"   \n",
       "3                               \"Transfer Learning?\"   \n",
       "4                          \"Neural Turing Machines?\"   \n",
       "\n",
       "                                              output tags  \\\n",
       "0  \"Word2vec is a popular technique used to learn...    -   \n",
       "1  \"To save data frames from Databricks into CSV ...    -   \n",
       "2  \"The What-If Tool is a tool designed for speed...    -   \n",
       "3  \"Transfer learning involves utilizing pre-exis...    -   \n",
       "4  \"Neural Turing Machines are designed with an a...    -   \n",
       "\n",
       "                                         record_json  \\\n",
       "0  {\"record_id\": \"record_hash_f564986ccb541c455f1...   \n",
       "1  {\"record_id\": \"record_hash_5a8a926546079ccfd5b...   \n",
       "2  {\"record_id\": \"record_hash_31879f48cc60c5c5c9d...   \n",
       "3  {\"record_id\": \"record_hash_ed030c05598a409361a...   \n",
       "4  {\"record_id\": \"record_hash_0480cee1e586229bde9...   \n",
       "\n",
       "                                           cost_json  \\\n",
       "0  {\"n_requests\": 1, \"n_successful_requests\": 1, ...   \n",
       "1  {\"n_requests\": 1, \"n_successful_requests\": 1, ...   \n",
       "2  {\"n_requests\": 1, \"n_successful_requests\": 1, ...   \n",
       "3  {\"n_requests\": 1, \"n_successful_requests\": 1, ...   \n",
       "4  {\"n_requests\": 1, \"n_successful_requests\": 1, ...   \n",
       "\n",
       "                                           perf_json  \\\n",
       "0  {\"start_time\": \"2024-04-09T01:04:12.891850\", \"...   \n",
       "1  {\"start_time\": \"2024-04-09T01:04:23.453620\", \"...   \n",
       "2  {\"start_time\": \"2024-04-09T01:04:36.701661\", \"...   \n",
       "3  {\"start_time\": \"2024-04-09T01:04:47.376947\", \"...   \n",
       "4  {\"start_time\": \"2024-04-09T01:04:57.674984\", \"...   \n",
       "\n",
       "                           ts  Answer Relevance  Context Relevance  \\\n",
       "0  2024-04-09T01:04:23.017966               0.9               0.90   \n",
       "1  2024-04-09T01:04:36.286194               0.9               0.80   \n",
       "2  2024-04-09T01:04:46.959100               0.9               0.50   \n",
       "3  2024-04-09T01:04:57.249051               1.0               0.95   \n",
       "4  2024-04-09T01:05:07.779567               1.0               0.80   \n",
       "\n",
       "   Groundedness                             Answer Relevance_calls  \\\n",
       "0      1.000000  [{'args': {'prompt': 'What is Word2vec?', 'res...   \n",
       "1      0.833333  [{'args': {'prompt': 'Databricks: How to Save ...   \n",
       "2      0.900000  [{'args': {'prompt': 'What is What-If Tool?', ...   \n",
       "3      1.000000  [{'args': {'prompt': 'Transfer Learning?', 're...   \n",
       "4      0.900000  [{'args': {'prompt': 'Neural Turing Machines?'...   \n",
       "\n",
       "                             Context Relevance_calls  \\\n",
       "0  [{'args': {'prompt': 'What is Word2vec?', 'res...   \n",
       "1  [{'args': {'prompt': 'Databricks: How to Save ...   \n",
       "2  [{'args': {'prompt': 'What is What-If Tool?', ...   \n",
       "3  [{'args': {'prompt': 'Transfer Learning?', 're...   \n",
       "4  [{'args': {'prompt': 'Neural Turing Machines?'...   \n",
       "\n",
       "                                  Groundedness_calls  latency  total_tokens  \\\n",
       "0  [{'args': {'source': 'A Beginner’s Guide to Wo...       10           484   \n",
       "1  [{'args': {'source': 'Databricks is a Microsof...       12           567   \n",
       "2  [{'args': {'source': 'Analytics is not about p...       10           547   \n",
       "3  [{'args': {'source': 'Transfer Learning.  The ...        9           397   \n",
       "4  [{'args': {'source': 'There is an activation f...       10           570   \n",
       "\n",
       "   total_cost  \n",
       "0    0.000768  \n",
       "1    0.000888  \n",
       "2    0.000862  \n",
       "3    0.000623  \n",
       "4    0.000881  "
      ]
     },
     "execution_count": 33,
     "metadata": {},
     "output_type": "execute_result"
    }
   ],
   "source": [
    "records2.head()"
   ]
  },
  {
   "cell_type": "code",
   "execution_count": 34,
   "metadata": {},
   "outputs": [
    {
     "data": {
      "image/png": "[encoded data removed]",
      "text/plain": [
       "<Figure size 1000x600 with 1 Axes>"
      ]
     },
     "metadata": {},
     "output_type": "display_data"
    }
   ],
   "source": [
    "score_histogram(records2, 'Groundedness', 'Sentence Window Model')"
   ]
  },
  {
   "cell_type": "markdown",
   "metadata": {},
   "source": [
    "The Sentence Window Model achieved perfect Groundedness scores in as many as 7 cases, but in one question, it yielded a dismal score of 0.0."
   ]
  },
  {
   "cell_type": "code",
   "execution_count": 38,
   "metadata": {},
   "outputs": [
    {
     "data": {
      "text/html": [
       "<div>\n",
       "<style scoped>\n",
       "    .dataframe tbody tr th:only-of-type {\n",
       "        vertical-align: middle;\n",
       "    }\n",
       "\n",
       "    .dataframe tbody tr th {\n",
       "        vertical-align: top;\n",
       "    }\n",
       "\n",
       "    .dataframe thead th {\n",
       "        text-align: right;\n",
       "    }\n",
       "</style>\n",
       "<table border=\"1\" class=\"dataframe\">\n",
       "  <thead>\n",
       "    <tr style=\"text-align: right;\">\n",
       "      <th></th>\n",
       "      <th>app_id</th>\n",
       "      <th>app_json</th>\n",
       "      <th>type</th>\n",
       "      <th>record_id</th>\n",
       "      <th>input</th>\n",
       "      <th>output</th>\n",
       "      <th>tags</th>\n",
       "      <th>record_json</th>\n",
       "      <th>cost_json</th>\n",
       "      <th>perf_json</th>\n",
       "      <th>ts</th>\n",
       "      <th>Answer Relevance</th>\n",
       "      <th>Context Relevance</th>\n",
       "      <th>Groundedness</th>\n",
       "      <th>Answer Relevance_calls</th>\n",
       "      <th>Context Relevance_calls</th>\n",
       "      <th>Groundedness_calls</th>\n",
       "      <th>latency</th>\n",
       "      <th>total_tokens</th>\n",
       "      <th>total_cost</th>\n",
       "    </tr>\n",
       "  </thead>\n",
       "  <tbody>\n",
       "    <tr>\n",
       "      <th>6</th>\n",
       "      <td>Sentence Window Query Engine</td>\n",
       "      <td>{\"tru_class_info\": {\"name\": \"TruLlama\", \"modul...</td>\n",
       "      <td>RetrieverQueryEngine(llama_index.core.query_en...</td>\n",
       "      <td>record_hash_068dacc54781771c017283ba4fc5c235</td>\n",
       "      <td>\"What are 4 main types of hackathons?\"</td>\n",
       "      <td>\"The four main types of hackathons are not exp...</td>\n",
       "      <td>-</td>\n",
       "      <td>{\"record_id\": \"record_hash_068dacc54781771c017...</td>\n",
       "      <td>{\"n_requests\": 1, \"n_successful_requests\": 1, ...</td>\n",
       "      <td>{\"start_time\": \"2024-04-09T01:05:18.412824\", \"...</td>\n",
       "      <td>2024-04-09T01:05:27.402490</td>\n",
       "      <td>1.0</td>\n",
       "      <td>0.2</td>\n",
       "      <td>0.0</td>\n",
       "      <td>[{'args': {'prompt': 'What are 4 main types of...</td>\n",
       "      <td>[{'args': {'prompt': 'What are 4 main types of...</td>\n",
       "      <td>[{'args': {'source': 'As hackathon is a very d...</td>\n",
       "      <td>8</td>\n",
       "      <td>447</td>\n",
       "      <td>0.000679</td>\n",
       "    </tr>\n",
       "  </tbody>\n",
       "</table>\n",
       "</div>"
      ],
      "text/plain": [
       "                         app_id  \\\n",
       "6  Sentence Window Query Engine   \n",
       "\n",
       "                                            app_json  \\\n",
       "6  {\"tru_class_info\": {\"name\": \"TruLlama\", \"modul...   \n",
       "\n",
       "                                                type  \\\n",
       "6  RetrieverQueryEngine(llama_index.core.query_en...   \n",
       "\n",
       "                                      record_id  \\\n",
       "6  record_hash_068dacc54781771c017283ba4fc5c235   \n",
       "\n",
       "                                    input  \\\n",
       "6  \"What are 4 main types of hackathons?\"   \n",
       "\n",
       "                                              output tags  \\\n",
       "6  \"The four main types of hackathons are not exp...    -   \n",
       "\n",
       "                                         record_json  \\\n",
       "6  {\"record_id\": \"record_hash_068dacc54781771c017...   \n",
       "\n",
       "                                           cost_json  \\\n",
       "6  {\"n_requests\": 1, \"n_successful_requests\": 1, ...   \n",
       "\n",
       "                                           perf_json  \\\n",
       "6  {\"start_time\": \"2024-04-09T01:05:18.412824\", \"...   \n",
       "\n",
       "                           ts  Answer Relevance  Context Relevance  \\\n",
       "6  2024-04-09T01:05:27.402490               1.0                0.2   \n",
       "\n",
       "   Groundedness                             Answer Relevance_calls  \\\n",
       "6           0.0  [{'args': {'prompt': 'What are 4 main types of...   \n",
       "\n",
       "                             Context Relevance_calls  \\\n",
       "6  [{'args': {'prompt': 'What are 4 main types of...   \n",
       "\n",
       "                                  Groundedness_calls  latency  total_tokens  \\\n",
       "6  [{'args': {'source': 'As hackathon is a very d...        8           447   \n",
       "\n",
       "   total_cost  \n",
       "6    0.000679  "
      ]
     },
     "execution_count": 38,
     "metadata": {},
     "output_type": "execute_result"
    }
   ],
   "source": [
    "records2[records2['Groundedness'] <= 0.1]"
   ]
  },
  {
   "cell_type": "code",
   "execution_count": 36,
   "metadata": {},
   "outputs": [
    {
     "data": {
      "image/png": "[encoded data removed]",
      "text/plain": [
       "<Figure size 1000x600 with 1 Axes>"
      ]
     },
     "metadata": {},
     "output_type": "display_data"
    }
   ],
   "source": [
    "score_histogram(records2, 'Context Relevance', 'Sentence Window Model')"
   ]
  },
  {
   "cell_type": "markdown",
   "metadata": {},
   "source": [
    "For this model, Context Relevance also exhibits lower values than Groundedness. However, they are notably higher than in the Initial Model. "
   ]
  },
  {
   "cell_type": "code",
   "execution_count": 37,
   "metadata": {},
   "outputs": [
    {
     "data": {
      "text/html": [
       "<div>\n",
       "<style scoped>\n",
       "    .dataframe tbody tr th:only-of-type {\n",
       "        vertical-align: middle;\n",
       "    }\n",
       "\n",
       "    .dataframe tbody tr th {\n",
       "        vertical-align: top;\n",
       "    }\n",
       "\n",
       "    .dataframe thead th {\n",
       "        text-align: right;\n",
       "    }\n",
       "</style>\n",
       "<table border=\"1\" class=\"dataframe\">\n",
       "  <thead>\n",
       "    <tr style=\"text-align: right;\">\n",
       "      <th></th>\n",
       "      <th>app_id</th>\n",
       "      <th>app_json</th>\n",
       "      <th>type</th>\n",
       "      <th>record_id</th>\n",
       "      <th>input</th>\n",
       "      <th>output</th>\n",
       "      <th>tags</th>\n",
       "      <th>record_json</th>\n",
       "      <th>cost_json</th>\n",
       "      <th>perf_json</th>\n",
       "      <th>ts</th>\n",
       "      <th>Answer Relevance</th>\n",
       "      <th>Context Relevance</th>\n",
       "      <th>Groundedness</th>\n",
       "      <th>Answer Relevance_calls</th>\n",
       "      <th>Context Relevance_calls</th>\n",
       "      <th>Groundedness_calls</th>\n",
       "      <th>latency</th>\n",
       "      <th>total_tokens</th>\n",
       "      <th>total_cost</th>\n",
       "    </tr>\n",
       "  </thead>\n",
       "  <tbody>\n",
       "    <tr>\n",
       "      <th>6</th>\n",
       "      <td>Sentence Window Query Engine</td>\n",
       "      <td>{\"tru_class_info\": {\"name\": \"TruLlama\", \"modul...</td>\n",
       "      <td>RetrieverQueryEngine(llama_index.core.query_en...</td>\n",
       "      <td>record_hash_068dacc54781771c017283ba4fc5c235</td>\n",
       "      <td>\"What are 4 main types of hackathons?\"</td>\n",
       "      <td>\"The four main types of hackathons are not exp...</td>\n",
       "      <td>-</td>\n",
       "      <td>{\"record_id\": \"record_hash_068dacc54781771c017...</td>\n",
       "      <td>{\"n_requests\": 1, \"n_successful_requests\": 1, ...</td>\n",
       "      <td>{\"start_time\": \"2024-04-09T01:05:18.412824\", \"...</td>\n",
       "      <td>2024-04-09T01:05:27.402490</td>\n",
       "      <td>1.0</td>\n",
       "      <td>0.2</td>\n",
       "      <td>0.0</td>\n",
       "      <td>[{'args': {'prompt': 'What are 4 main types of...</td>\n",
       "      <td>[{'args': {'prompt': 'What are 4 main types of...</td>\n",
       "      <td>[{'args': {'source': 'As hackathon is a very d...</td>\n",
       "      <td>8</td>\n",
       "      <td>447</td>\n",
       "      <td>0.000679</td>\n",
       "    </tr>\n",
       "  </tbody>\n",
       "</table>\n",
       "</div>"
      ],
      "text/plain": [
       "                         app_id  \\\n",
       "6  Sentence Window Query Engine   \n",
       "\n",
       "                                            app_json  \\\n",
       "6  {\"tru_class_info\": {\"name\": \"TruLlama\", \"modul...   \n",
       "\n",
       "                                                type  \\\n",
       "6  RetrieverQueryEngine(llama_index.core.query_en...   \n",
       "\n",
       "                                      record_id  \\\n",
       "6  record_hash_068dacc54781771c017283ba4fc5c235   \n",
       "\n",
       "                                    input  \\\n",
       "6  \"What are 4 main types of hackathons?\"   \n",
       "\n",
       "                                              output tags  \\\n",
       "6  \"The four main types of hackathons are not exp...    -   \n",
       "\n",
       "                                         record_json  \\\n",
       "6  {\"record_id\": \"record_hash_068dacc54781771c017...   \n",
       "\n",
       "                                           cost_json  \\\n",
       "6  {\"n_requests\": 1, \"n_successful_requests\": 1, ...   \n",
       "\n",
       "                                           perf_json  \\\n",
       "6  {\"start_time\": \"2024-04-09T01:05:18.412824\", \"...   \n",
       "\n",
       "                           ts  Answer Relevance  Context Relevance  \\\n",
       "6  2024-04-09T01:05:27.402490               1.0                0.2   \n",
       "\n",
       "   Groundedness                             Answer Relevance_calls  \\\n",
       "6           0.0  [{'args': {'prompt': 'What are 4 main types of...   \n",
       "\n",
       "                             Context Relevance_calls  \\\n",
       "6  [{'args': {'prompt': 'What are 4 main types of...   \n",
       "\n",
       "                                  Groundedness_calls  latency  total_tokens  \\\n",
       "6  [{'args': {'source': 'As hackathon is a very d...        8           447   \n",
       "\n",
       "   total_cost  \n",
       "6    0.000679  "
      ]
     },
     "execution_count": 37,
     "metadata": {},
     "output_type": "execute_result"
    }
   ],
   "source": [
    "records2[records2['Context Relevance'] <= 0.2]"
   ]
  },
  {
   "cell_type": "markdown",
   "metadata": {},
   "source": [
    "As can be seen above Sentence Window Model has low both Groundedness and Context Relevance for the same question: _'What are 4 main types of hackathons?'_."
   ]
  },
  {
   "cell_type": "code",
   "execution_count": 39,
   "metadata": {},
   "outputs": [
    {
     "data": {
      "image/png": "[encoded data removed]",
      "text/plain": [
       "<Figure size 1000x600 with 1 Axes>"
      ]
     },
     "metadata": {},
     "output_type": "display_data"
    }
   ],
   "source": [
    "score_histogram(records2, 'Answer Relevance', 'Sentence Window Model')"
   ]
  },
  {
   "cell_type": "markdown",
   "metadata": {},
   "source": [
    "In the Answer Relevance histogram, we can also see that the model performs very well except for one sentence."
   ]
  },
  {
   "cell_type": "code",
   "execution_count": 40,
   "metadata": {},
   "outputs": [
    {
     "data": {
      "text/html": [
       "<div>\n",
       "<style scoped>\n",
       "    .dataframe tbody tr th:only-of-type {\n",
       "        vertical-align: middle;\n",
       "    }\n",
       "\n",
       "    .dataframe tbody tr th {\n",
       "        vertical-align: top;\n",
       "    }\n",
       "\n",
       "    .dataframe thead th {\n",
       "        text-align: right;\n",
       "    }\n",
       "</style>\n",
       "<table border=\"1\" class=\"dataframe\">\n",
       "  <thead>\n",
       "    <tr style=\"text-align: right;\">\n",
       "      <th></th>\n",
       "      <th>app_id</th>\n",
       "      <th>app_json</th>\n",
       "      <th>type</th>\n",
       "      <th>record_id</th>\n",
       "      <th>input</th>\n",
       "      <th>output</th>\n",
       "      <th>tags</th>\n",
       "      <th>record_json</th>\n",
       "      <th>cost_json</th>\n",
       "      <th>perf_json</th>\n",
       "      <th>ts</th>\n",
       "      <th>Answer Relevance</th>\n",
       "      <th>Context Relevance</th>\n",
       "      <th>Groundedness</th>\n",
       "      <th>Answer Relevance_calls</th>\n",
       "      <th>Context Relevance_calls</th>\n",
       "      <th>Groundedness_calls</th>\n",
       "      <th>latency</th>\n",
       "      <th>total_tokens</th>\n",
       "      <th>total_cost</th>\n",
       "    </tr>\n",
       "  </thead>\n",
       "  <tbody>\n",
       "    <tr>\n",
       "      <th>5</th>\n",
       "      <td>Sentence Window Query Engine</td>\n",
       "      <td>{\"tru_class_info\": {\"name\": \"TruLlama\", \"modul...</td>\n",
       "      <td>RetrieverQueryEngine(llama_index.core.query_en...</td>\n",
       "      <td>record_hash_8ae94ea6d5c3af4a434621b857b2a181</td>\n",
       "      <td>\"Do human beings have the most densely packed ...</td>\n",
       "      <td>\"Yes.\"</td>\n",
       "      <td>-</td>\n",
       "      <td>{\"record_id\": \"record_hash_8ae94ea6d5c3af4a434...</td>\n",
       "      <td>{\"n_requests\": 1, \"n_successful_requests\": 1, ...</td>\n",
       "      <td>{\"start_time\": \"2024-04-09T01:05:08.196891\", \"...</td>\n",
       "      <td>2024-04-09T01:05:17.996964</td>\n",
       "      <td>0.0</td>\n",
       "      <td>0.5</td>\n",
       "      <td>1.0</td>\n",
       "      <td>[{'args': {'prompt': 'Do human beings have the...</td>\n",
       "      <td>[{'args': {'prompt': 'Do human beings have the...</td>\n",
       "      <td>[{'args': {'source': 'Brain: A Mystery “The mo...</td>\n",
       "      <td>9</td>\n",
       "      <td>467</td>\n",
       "      <td>0.000702</td>\n",
       "    </tr>\n",
       "  </tbody>\n",
       "</table>\n",
       "</div>"
      ],
      "text/plain": [
       "                         app_id  \\\n",
       "5  Sentence Window Query Engine   \n",
       "\n",
       "                                            app_json  \\\n",
       "5  {\"tru_class_info\": {\"name\": \"TruLlama\", \"modul...   \n",
       "\n",
       "                                                type  \\\n",
       "5  RetrieverQueryEngine(llama_index.core.query_en...   \n",
       "\n",
       "                                      record_id  \\\n",
       "5  record_hash_8ae94ea6d5c3af4a434621b857b2a181   \n",
       "\n",
       "                                               input  output tags  \\\n",
       "5  \"Do human beings have the most densely packed ...  \"Yes.\"    -   \n",
       "\n",
       "                                         record_json  \\\n",
       "5  {\"record_id\": \"record_hash_8ae94ea6d5c3af4a434...   \n",
       "\n",
       "                                           cost_json  \\\n",
       "5  {\"n_requests\": 1, \"n_successful_requests\": 1, ...   \n",
       "\n",
       "                                           perf_json  \\\n",
       "5  {\"start_time\": \"2024-04-09T01:05:08.196891\", \"...   \n",
       "\n",
       "                           ts  Answer Relevance  Context Relevance  \\\n",
       "5  2024-04-09T01:05:17.996964               0.0                0.5   \n",
       "\n",
       "   Groundedness                             Answer Relevance_calls  \\\n",
       "5           1.0  [{'args': {'prompt': 'Do human beings have the...   \n",
       "\n",
       "                             Context Relevance_calls  \\\n",
       "5  [{'args': {'prompt': 'Do human beings have the...   \n",
       "\n",
       "                                  Groundedness_calls  latency  total_tokens  \\\n",
       "5  [{'args': {'source': 'Brain: A Mystery “The mo...        9           467   \n",
       "\n",
       "   total_cost  \n",
       "5    0.000702  "
      ]
     },
     "execution_count": 40,
     "metadata": {},
     "output_type": "execute_result"
    }
   ],
   "source": [
    "records2[records2['Answer Relevance'] <= 0.1]"
   ]
  },
  {
   "cell_type": "markdown",
   "metadata": {},
   "source": [
    "Model Summary"
   ]
  },
  {
   "cell_type": "code",
   "execution_count": 41,
   "metadata": {},
   "outputs": [
    {
     "data": {
      "text/html": [
       "<div>\n",
       "<style scoped>\n",
       "    .dataframe tbody tr th:only-of-type {\n",
       "        vertical-align: middle;\n",
       "    }\n",
       "\n",
       "    .dataframe tbody tr th {\n",
       "        vertical-align: top;\n",
       "    }\n",
       "\n",
       "    .dataframe thead th {\n",
       "        text-align: right;\n",
       "    }\n",
       "</style>\n",
       "<table border=\"1\" class=\"dataframe\">\n",
       "  <thead>\n",
       "    <tr style=\"text-align: right;\">\n",
       "      <th></th>\n",
       "      <th>Groundedness</th>\n",
       "      <th>Answer Relevance</th>\n",
       "      <th>Context Relevance</th>\n",
       "      <th>latency</th>\n",
       "      <th>total_cost</th>\n",
       "    </tr>\n",
       "    <tr>\n",
       "      <th>app_id</th>\n",
       "      <th></th>\n",
       "      <th></th>\n",
       "      <th></th>\n",
       "      <th></th>\n",
       "      <th></th>\n",
       "    </tr>\n",
       "  </thead>\n",
       "  <tbody>\n",
       "    <tr>\n",
       "      <th>Sentence Window Query Engine</th>\n",
       "      <td>0.880556</td>\n",
       "      <td>0.866667</td>\n",
       "      <td>0.6875</td>\n",
       "      <td>9.833333</td>\n",
       "      <td>0.000768</td>\n",
       "    </tr>\n",
       "  </tbody>\n",
       "</table>\n",
       "</div>"
      ],
      "text/plain": [
       "                              Groundedness  Answer Relevance  \\\n",
       "app_id                                                         \n",
       "Sentence Window Query Engine      0.880556          0.866667   \n",
       "\n",
       "                              Context Relevance   latency  total_cost  \n",
       "app_id                                                                 \n",
       "Sentence Window Query Engine             0.6875  9.833333    0.000768  "
      ]
     },
     "execution_count": 41,
     "metadata": {},
     "output_type": "execute_result"
    }
   ],
   "source": [
    "tru.get_leaderboard(app_ids=[])"
   ]
  },
  {
   "cell_type": "markdown",
   "metadata": {},
   "source": [
    "The Sentence Window Model yielded notably disparate results compared to the Initial Model. It exhibited decreased scores in terms of Groundedness and Answer Relevance, contrasting with a remarkable 23 percentage-point increase in Context Relevance. Additionally, the total cost has substantially decreased, which is highly promising. However, there is an increase in Latency, which may cause challenges depending on the specific use case.\n",
    "\n",
    "This Model also encountred problems answering to some questions: _'What are 4 main types of hackathons?'_, _'Do human beings have the most densely packed set of neurons?'_."
   ]
  },
  {
   "cell_type": "markdown",
   "metadata": {},
   "source": [
    "## Auto Merging Retrieval Model"
   ]
  },
  {
   "cell_type": "markdown",
   "metadata": {},
   "source": [
    "I developed another solution using Auto Merging Retrieval, which works like:\n",
    "- Initially, it divides the document into numerous chunks\n",
    "- It divides the \"parent\" chunks into smaller \"child\" chunks\n",
    "- During the querying process, it begins by retrieving smaller chunks based on embedding similarity.\n",
    "- If the majority of these subset chunks are chosen based on embedding similarity, the parent chunk is returned; otherwise, only the selected child chunks are returned.\n",
    "\n",
    "Auto Merging Retrieval merges similar chunks together, streamlining the retrieval process and enhancing overall efficiency. It also improves retrieval accuracy over time by refining the selection of chunks with similar embeddings. I added reranking functionality in this model too."
   ]
  },
  {
   "cell_type": "markdown",
   "metadata": {},
   "source": [
    "<p align=\"center\">\n",
    "  <img src=\"../images/automerging_retrieval.jpg\" alt=\"Auto Merge\">\n",
    "</p>"
   ]
  },
  {
   "cell_type": "markdown",
   "metadata": {},
   "source": [
    "Model can be adjusted by changing the _'top_k'_ parameter."
   ]
  },
  {
   "cell_type": "code",
   "execution_count": 42,
   "metadata": {},
   "outputs": [],
   "source": [
    "automerge_model = AutomergeRagModel(df, top_k=10)\n",
    "automerge_model.create_engine()"
   ]
  },
  {
   "cell_type": "markdown",
   "metadata": {},
   "source": [
    "This model also managed to respond to this question effectively."
   ]
  },
  {
   "cell_type": "code",
   "execution_count": 43,
   "metadata": {},
   "outputs": [
    {
     "name": "stdout",
     "output_type": "stream",
     "text": [
      "> Merging 1 nodes into parent node.\n",
      "> Parent node id: 6fc7dc22-066e-4d9c-8702-fce98f05be4c.\n",
      "> Parent node text: While artificial neurons do not have any such capability, any n-bit temporal pattern can be equal...\n",
      "\n"
     ]
    },
    {
     "data": {
      "text/plain": [
       "'The neuron is considered the fundamental structural and functional unit of the brain according to the Neuron Doctrine.'"
      ]
     },
     "execution_count": 43,
     "metadata": {},
     "output_type": "execute_result"
    }
   ],
   "source": [
    "str(automerge_model.engine.query(sample_question))"
   ]
  },
  {
   "cell_type": "code",
   "execution_count": 44,
   "metadata": {},
   "outputs": [],
   "source": [
    "tru.reset_database()"
   ]
  },
  {
   "cell_type": "code",
   "execution_count": 45,
   "metadata": {},
   "outputs": [],
   "source": [
    "tru_recorder_automerging = get_prebuilt_trulens_recorder(automerge_model.engine,\n",
    "                                             app_id=\"Automerging Query Engine\")"
   ]
  },
  {
   "cell_type": "code",
   "execution_count": null,
   "metadata": {},
   "outputs": [],
   "source": [
    "for question in eval_questions:\n",
    "    with tru_recorder_automerging as recording:\n",
    "        response = automerge_model.engine.query(question)"
   ]
  },
  {
   "cell_type": "code",
   "execution_count": 47,
   "metadata": {},
   "outputs": [],
   "source": [
    "records3, feedback = tru.get_records_and_feedback(app_ids=[])"
   ]
  },
  {
   "cell_type": "code",
   "execution_count": 48,
   "metadata": {},
   "outputs": [
    {
     "data": {
      "text/html": [
       "<div>\n",
       "<style scoped>\n",
       "    .dataframe tbody tr th:only-of-type {\n",
       "        vertical-align: middle;\n",
       "    }\n",
       "\n",
       "    .dataframe tbody tr th {\n",
       "        vertical-align: top;\n",
       "    }\n",
       "\n",
       "    .dataframe thead th {\n",
       "        text-align: right;\n",
       "    }\n",
       "</style>\n",
       "<table border=\"1\" class=\"dataframe\">\n",
       "  <thead>\n",
       "    <tr style=\"text-align: right;\">\n",
       "      <th></th>\n",
       "      <th>app_id</th>\n",
       "      <th>app_json</th>\n",
       "      <th>type</th>\n",
       "      <th>record_id</th>\n",
       "      <th>input</th>\n",
       "      <th>output</th>\n",
       "      <th>tags</th>\n",
       "      <th>record_json</th>\n",
       "      <th>cost_json</th>\n",
       "      <th>perf_json</th>\n",
       "      <th>ts</th>\n",
       "      <th>Answer Relevance</th>\n",
       "      <th>Context Relevance</th>\n",
       "      <th>Groundedness</th>\n",
       "      <th>Answer Relevance_calls</th>\n",
       "      <th>Context Relevance_calls</th>\n",
       "      <th>Groundedness_calls</th>\n",
       "      <th>latency</th>\n",
       "      <th>total_tokens</th>\n",
       "      <th>total_cost</th>\n",
       "    </tr>\n",
       "  </thead>\n",
       "  <tbody>\n",
       "    <tr>\n",
       "      <th>0</th>\n",
       "      <td>Automerging Query Engine</td>\n",
       "      <td>{\"tru_class_info\": {\"name\": \"TruLlama\", \"modul...</td>\n",
       "      <td>RetrieverQueryEngine(llama_index.core.query_en...</td>\n",
       "      <td>record_hash_286766f937f1acf188a9822efe3e6751</td>\n",
       "      <td>\"What is Word2vec?\"</td>\n",
       "      <td>\"Word2vec is a two-layer neural network that p...</td>\n",
       "      <td>-</td>\n",
       "      <td>{\"record_id\": \"record_hash_286766f937f1acf188a...</td>\n",
       "      <td>{\"n_requests\": 1, \"n_successful_requests\": 1, ...</td>\n",
       "      <td>{\"start_time\": \"2024-04-09T01:24:43.284253\", \"...</td>\n",
       "      <td>2024-04-09T01:24:52.394125</td>\n",
       "      <td>1.0</td>\n",
       "      <td>1.00</td>\n",
       "      <td>0.80</td>\n",
       "      <td>[{'args': {'prompt': 'What is Word2vec?', 'res...</td>\n",
       "      <td>[{'args': {'prompt': 'What is Word2vec?', 'res...</td>\n",
       "      <td>[{'args': {'source': '1, 1, 0, 1, 0, 0, 1, 1, ...</td>\n",
       "      <td>9</td>\n",
       "      <td>418</td>\n",
       "      <td>0.000663</td>\n",
       "    </tr>\n",
       "    <tr>\n",
       "      <th>1</th>\n",
       "      <td>Automerging Query Engine</td>\n",
       "      <td>{\"tru_class_info\": {\"name\": \"TruLlama\", \"modul...</td>\n",
       "      <td>RetrieverQueryEngine(llama_index.core.query_en...</td>\n",
       "      <td>record_hash_0df922f4adc8e33ef7d0ba58530621dd</td>\n",
       "      <td>\"Databricks: How to Save Data Frames as CSV Fi...</td>\n",
       "      <td>\"To save data frames as CSV files on your loca...</td>\n",
       "      <td>-</td>\n",
       "      <td>{\"record_id\": \"record_hash_0df922f4adc8e33ef7d...</td>\n",
       "      <td>{\"n_requests\": 1, \"n_successful_requests\": 1, ...</td>\n",
       "      <td>{\"start_time\": \"2024-04-09T01:24:52.912566\", \"...</td>\n",
       "      <td>2024-04-09T01:25:08.393236</td>\n",
       "      <td>1.0</td>\n",
       "      <td>0.90</td>\n",
       "      <td>0.60</td>\n",
       "      <td>[{'args': {'prompt': 'Databricks: How to Save ...</td>\n",
       "      <td>[{'args': {'prompt': 'Databricks: How to Save ...</td>\n",
       "      <td>[{'args': {'source': 'Databricks: How to Save ...</td>\n",
       "      <td>15</td>\n",
       "      <td>791</td>\n",
       "      <td>0.001259</td>\n",
       "    </tr>\n",
       "    <tr>\n",
       "      <th>2</th>\n",
       "      <td>Automerging Query Engine</td>\n",
       "      <td>{\"tru_class_info\": {\"name\": \"TruLlama\", \"modul...</td>\n",
       "      <td>RetrieverQueryEngine(llama_index.core.query_en...</td>\n",
       "      <td>record_hash_f0ceb53fadf7c440b61419e382620d30</td>\n",
       "      <td>\"What is What-If Tool?\"</td>\n",
       "      <td>\"The What-If Tool is a tool designed for speed...</td>\n",
       "      <td>-</td>\n",
       "      <td>{\"record_id\": \"record_hash_f0ceb53fadf7c440b61...</td>\n",
       "      <td>{\"n_requests\": 1, \"n_successful_requests\": 1, ...</td>\n",
       "      <td>{\"start_time\": \"2024-04-09T01:25:08.916258\", \"...</td>\n",
       "      <td>2024-04-09T01:25:25.116522</td>\n",
       "      <td>0.8</td>\n",
       "      <td>0.50</td>\n",
       "      <td>0.65</td>\n",
       "      <td>[{'args': {'prompt': 'What is What-If Tool?', ...</td>\n",
       "      <td>[{'args': {'prompt': 'What is What-If Tool?', ...</td>\n",
       "      <td>[{'args': {'source': 'Instead, it’ll help you ...</td>\n",
       "      <td>16</td>\n",
       "      <td>407</td>\n",
       "      <td>0.000637</td>\n",
       "    </tr>\n",
       "    <tr>\n",
       "      <th>3</th>\n",
       "      <td>Automerging Query Engine</td>\n",
       "      <td>{\"tru_class_info\": {\"name\": \"TruLlama\", \"modul...</td>\n",
       "      <td>RetrieverQueryEngine(llama_index.core.query_en...</td>\n",
       "      <td>record_hash_24d1fd46d633c83490e5efebcaab5653</td>\n",
       "      <td>\"Transfer Learning?\"</td>\n",
       "      <td>\"Transfer Learning is a method that involves u...</td>\n",
       "      <td>-</td>\n",
       "      <td>{\"record_id\": \"record_hash_24d1fd46d633c83490e...</td>\n",
       "      <td>{\"n_requests\": 1, \"n_successful_requests\": 1, ...</td>\n",
       "      <td>{\"start_time\": \"2024-04-09T01:25:25.649734\", \"...</td>\n",
       "      <td>2024-04-09T01:25:42.201958</td>\n",
       "      <td>1.0</td>\n",
       "      <td>0.95</td>\n",
       "      <td>1.00</td>\n",
       "      <td>[{'args': {'prompt': 'Transfer Learning?', 're...</td>\n",
       "      <td>[{'args': {'prompt': 'Transfer Learning?', 're...</td>\n",
       "      <td>[{'args': {'source': 'Transfer Learning. The p...</td>\n",
       "      <td>16</td>\n",
       "      <td>392</td>\n",
       "      <td>0.000617</td>\n",
       "    </tr>\n",
       "    <tr>\n",
       "      <th>4</th>\n",
       "      <td>Automerging Query Engine</td>\n",
       "      <td>{\"tru_class_info\": {\"name\": \"TruLlama\", \"modul...</td>\n",
       "      <td>RetrieverQueryEngine(llama_index.core.query_en...</td>\n",
       "      <td>record_hash_f91f281fb6d8fe1bf0fb85ff99dda942</td>\n",
       "      <td>\"Neural Turing Machines?\"</td>\n",
       "      <td>\"Neural Turing Machines are designed with an a...</td>\n",
       "      <td>-</td>\n",
       "      <td>{\"record_id\": \"record_hash_f91f281fb6d8fe1bf0f...</td>\n",
       "      <td>{\"n_requests\": 1, \"n_successful_requests\": 1, ...</td>\n",
       "      <td>{\"start_time\": \"2024-04-09T01:25:42.711398\", \"...</td>\n",
       "      <td>2024-04-09T01:25:52.370403</td>\n",
       "      <td>1.0</td>\n",
       "      <td>0.60</td>\n",
       "      <td>0.90</td>\n",
       "      <td>[{'args': {'prompt': 'Neural Turing Machines?'...</td>\n",
       "      <td>[{'args': {'prompt': 'Neural Turing Machines?'...</td>\n",
       "      <td>[{'args': {'source': 'Neural Turing Machines\n",
       "\n",
       "...</td>\n",
       "      <td>9</td>\n",
       "      <td>364</td>\n",
       "      <td>0.000575</td>\n",
       "    </tr>\n",
       "  </tbody>\n",
       "</table>\n",
       "</div>"
      ],
      "text/plain": [
       "                     app_id  \\\n",
       "0  Automerging Query Engine   \n",
       "1  Automerging Query Engine   \n",
       "2  Automerging Query Engine   \n",
       "3  Automerging Query Engine   \n",
       "4  Automerging Query Engine   \n",
       "\n",
       "                                            app_json  \\\n",
       "0  {\"tru_class_info\": {\"name\": \"TruLlama\", \"modul...   \n",
       "1  {\"tru_class_info\": {\"name\": \"TruLlama\", \"modul...   \n",
       "2  {\"tru_class_info\": {\"name\": \"TruLlama\", \"modul...   \n",
       "3  {\"tru_class_info\": {\"name\": \"TruLlama\", \"modul...   \n",
       "4  {\"tru_class_info\": {\"name\": \"TruLlama\", \"modul...   \n",
       "\n",
       "                                                type  \\\n",
       "0  RetrieverQueryEngine(llama_index.core.query_en...   \n",
       "1  RetrieverQueryEngine(llama_index.core.query_en...   \n",
       "2  RetrieverQueryEngine(llama_index.core.query_en...   \n",
       "3  RetrieverQueryEngine(llama_index.core.query_en...   \n",
       "4  RetrieverQueryEngine(llama_index.core.query_en...   \n",
       "\n",
       "                                      record_id  \\\n",
       "0  record_hash_286766f937f1acf188a9822efe3e6751   \n",
       "1  record_hash_0df922f4adc8e33ef7d0ba58530621dd   \n",
       "2  record_hash_f0ceb53fadf7c440b61419e382620d30   \n",
       "3  record_hash_24d1fd46d633c83490e5efebcaab5653   \n",
       "4  record_hash_f91f281fb6d8fe1bf0fb85ff99dda942   \n",
       "\n",
       "                                               input  \\\n",
       "0                                \"What is Word2vec?\"   \n",
       "1  \"Databricks: How to Save Data Frames as CSV Fi...   \n",
       "2                            \"What is What-If Tool?\"   \n",
       "3                               \"Transfer Learning?\"   \n",
       "4                          \"Neural Turing Machines?\"   \n",
       "\n",
       "                                              output tags  \\\n",
       "0  \"Word2vec is a two-layer neural network that p...    -   \n",
       "1  \"To save data frames as CSV files on your loca...    -   \n",
       "2  \"The What-If Tool is a tool designed for speed...    -   \n",
       "3  \"Transfer Learning is a method that involves u...    -   \n",
       "4  \"Neural Turing Machines are designed with an a...    -   \n",
       "\n",
       "                                         record_json  \\\n",
       "0  {\"record_id\": \"record_hash_286766f937f1acf188a...   \n",
       "1  {\"record_id\": \"record_hash_0df922f4adc8e33ef7d...   \n",
       "2  {\"record_id\": \"record_hash_f0ceb53fadf7c440b61...   \n",
       "3  {\"record_id\": \"record_hash_24d1fd46d633c83490e...   \n",
       "4  {\"record_id\": \"record_hash_f91f281fb6d8fe1bf0f...   \n",
       "\n",
       "                                           cost_json  \\\n",
       "0  {\"n_requests\": 1, \"n_successful_requests\": 1, ...   \n",
       "1  {\"n_requests\": 1, \"n_successful_requests\": 1, ...   \n",
       "2  {\"n_requests\": 1, \"n_successful_requests\": 1, ...   \n",
       "3  {\"n_requests\": 1, \"n_successful_requests\": 1, ...   \n",
       "4  {\"n_requests\": 1, \"n_successful_requests\": 1, ...   \n",
       "\n",
       "                                           perf_json  \\\n",
       "0  {\"start_time\": \"2024-04-09T01:24:43.284253\", \"...   \n",
       "1  {\"start_time\": \"2024-04-09T01:24:52.912566\", \"...   \n",
       "2  {\"start_time\": \"2024-04-09T01:25:08.916258\", \"...   \n",
       "3  {\"start_time\": \"2024-04-09T01:25:25.649734\", \"...   \n",
       "4  {\"start_time\": \"2024-04-09T01:25:42.711398\", \"...   \n",
       "\n",
       "                           ts  Answer Relevance  Context Relevance  \\\n",
       "0  2024-04-09T01:24:52.394125               1.0               1.00   \n",
       "1  2024-04-09T01:25:08.393236               1.0               0.90   \n",
       "2  2024-04-09T01:25:25.116522               0.8               0.50   \n",
       "3  2024-04-09T01:25:42.201958               1.0               0.95   \n",
       "4  2024-04-09T01:25:52.370403               1.0               0.60   \n",
       "\n",
       "   Groundedness                             Answer Relevance_calls  \\\n",
       "0          0.80  [{'args': {'prompt': 'What is Word2vec?', 'res...   \n",
       "1          0.60  [{'args': {'prompt': 'Databricks: How to Save ...   \n",
       "2          0.65  [{'args': {'prompt': 'What is What-If Tool?', ...   \n",
       "3          1.00  [{'args': {'prompt': 'Transfer Learning?', 're...   \n",
       "4          0.90  [{'args': {'prompt': 'Neural Turing Machines?'...   \n",
       "\n",
       "                             Context Relevance_calls  \\\n",
       "0  [{'args': {'prompt': 'What is Word2vec?', 'res...   \n",
       "1  [{'args': {'prompt': 'Databricks: How to Save ...   \n",
       "2  [{'args': {'prompt': 'What is What-If Tool?', ...   \n",
       "3  [{'args': {'prompt': 'Transfer Learning?', 're...   \n",
       "4  [{'args': {'prompt': 'Neural Turing Machines?'...   \n",
       "\n",
       "                                  Groundedness_calls  latency  total_tokens  \\\n",
       "0  [{'args': {'source': '1, 1, 0, 1, 0, 0, 1, 1, ...        9           418   \n",
       "1  [{'args': {'source': 'Databricks: How to Save ...       15           791   \n",
       "2  [{'args': {'source': 'Instead, it’ll help you ...       16           407   \n",
       "3  [{'args': {'source': 'Transfer Learning. The p...       16           392   \n",
       "4  [{'args': {'source': 'Neural Turing Machines\n",
       "\n",
       "...        9           364   \n",
       "\n",
       "   total_cost  \n",
       "0    0.000663  \n",
       "1    0.001259  \n",
       "2    0.000637  \n",
       "3    0.000617  \n",
       "4    0.000575  "
      ]
     },
     "execution_count": 48,
     "metadata": {},
     "output_type": "execute_result"
    }
   ],
   "source": [
    "records3.head()"
   ]
  },
  {
   "cell_type": "code",
   "execution_count": 49,
   "metadata": {},
   "outputs": [
    {
     "data": {
      "image/png": "[encoded data removed]",
      "text/plain": [
       "<Figure size 1000x600 with 1 Axes>"
      ]
     },
     "metadata": {},
     "output_type": "display_data"
    }
   ],
   "source": [
    "score_histogram(records3, 'Groundedness', 'Auto Merge Model')"
   ]
  },
  {
   "cell_type": "markdown",
   "metadata": {},
   "source": [
    "The Auto Merge Model demonstrates decent Groundedness scores across all questions. Even though it has more results with scores below average, it doesn't have any catastrophic results (the lowest being 0.5)."
   ]
  },
  {
   "cell_type": "code",
   "execution_count": 50,
   "metadata": {},
   "outputs": [
    {
     "data": {
      "image/png": "[encoded data removed]",
      "text/plain": [
       "<Figure size 1000x600 with 1 Axes>"
      ]
     },
     "metadata": {},
     "output_type": "display_data"
    }
   ],
   "source": [
    "score_histogram(records3, 'Context Relevance', 'Auto Merge Model')"
   ]
  },
  {
   "cell_type": "markdown",
   "metadata": {},
   "source": [
    "The model exhibits acceptable Context Relevance scores, but in one instance, it achieved only 0.1."
   ]
  },
  {
   "cell_type": "code",
   "execution_count": 53,
   "metadata": {},
   "outputs": [
    {
     "data": {
      "text/html": [
       "<div>\n",
       "<style scoped>\n",
       "    .dataframe tbody tr th:only-of-type {\n",
       "        vertical-align: middle;\n",
       "    }\n",
       "\n",
       "    .dataframe tbody tr th {\n",
       "        vertical-align: top;\n",
       "    }\n",
       "\n",
       "    .dataframe thead th {\n",
       "        text-align: right;\n",
       "    }\n",
       "</style>\n",
       "<table border=\"1\" class=\"dataframe\">\n",
       "  <thead>\n",
       "    <tr style=\"text-align: right;\">\n",
       "      <th></th>\n",
       "      <th>app_id</th>\n",
       "      <th>app_json</th>\n",
       "      <th>type</th>\n",
       "      <th>record_id</th>\n",
       "      <th>input</th>\n",
       "      <th>output</th>\n",
       "      <th>tags</th>\n",
       "      <th>record_json</th>\n",
       "      <th>cost_json</th>\n",
       "      <th>perf_json</th>\n",
       "      <th>ts</th>\n",
       "      <th>Answer Relevance</th>\n",
       "      <th>Context Relevance</th>\n",
       "      <th>Groundedness</th>\n",
       "      <th>Answer Relevance_calls</th>\n",
       "      <th>Context Relevance_calls</th>\n",
       "      <th>Groundedness_calls</th>\n",
       "      <th>latency</th>\n",
       "      <th>total_tokens</th>\n",
       "      <th>total_cost</th>\n",
       "    </tr>\n",
       "  </thead>\n",
       "  <tbody>\n",
       "    <tr>\n",
       "      <th>6</th>\n",
       "      <td>Automerging Query Engine</td>\n",
       "      <td>{\"tru_class_info\": {\"name\": \"TruLlama\", \"modul...</td>\n",
       "      <td>RetrieverQueryEngine(llama_index.core.query_en...</td>\n",
       "      <td>record_hash_0ca519081bede75446fd5b0488058247</td>\n",
       "      <td>\"What are 4 main types of hackathons?\"</td>\n",
       "      <td>\"The four main types of hackathons are the one...</td>\n",
       "      <td>-</td>\n",
       "      <td>{\"record_id\": \"record_hash_0ca519081bede75446f...</td>\n",
       "      <td>{\"n_requests\": 1, \"n_successful_requests\": 1, ...</td>\n",
       "      <td>{\"start_time\": \"2024-04-09T01:26:02.607356\", \"...</td>\n",
       "      <td>2024-04-09T01:26:17.406776</td>\n",
       "      <td>1.0</td>\n",
       "      <td>0.1</td>\n",
       "      <td>1.0</td>\n",
       "      <td>[{'args': {'prompt': 'What are 4 main types of...</td>\n",
       "      <td>[{'args': {'prompt': 'What are 4 main types of...</td>\n",
       "      <td>[{'args': {'source': '3 Essential Persons Need...</td>\n",
       "      <td>14</td>\n",
       "      <td>693</td>\n",
       "      <td>0.001058</td>\n",
       "    </tr>\n",
       "  </tbody>\n",
       "</table>\n",
       "</div>"
      ],
      "text/plain": [
       "                     app_id  \\\n",
       "6  Automerging Query Engine   \n",
       "\n",
       "                                            app_json  \\\n",
       "6  {\"tru_class_info\": {\"name\": \"TruLlama\", \"modul...   \n",
       "\n",
       "                                                type  \\\n",
       "6  RetrieverQueryEngine(llama_index.core.query_en...   \n",
       "\n",
       "                                      record_id  \\\n",
       "6  record_hash_0ca519081bede75446fd5b0488058247   \n",
       "\n",
       "                                    input  \\\n",
       "6  \"What are 4 main types of hackathons?\"   \n",
       "\n",
       "                                              output tags  \\\n",
       "6  \"The four main types of hackathons are the one...    -   \n",
       "\n",
       "                                         record_json  \\\n",
       "6  {\"record_id\": \"record_hash_0ca519081bede75446f...   \n",
       "\n",
       "                                           cost_json  \\\n",
       "6  {\"n_requests\": 1, \"n_successful_requests\": 1, ...   \n",
       "\n",
       "                                           perf_json  \\\n",
       "6  {\"start_time\": \"2024-04-09T01:26:02.607356\", \"...   \n",
       "\n",
       "                           ts  Answer Relevance  Context Relevance  \\\n",
       "6  2024-04-09T01:26:17.406776               1.0                0.1   \n",
       "\n",
       "   Groundedness                             Answer Relevance_calls  \\\n",
       "6           1.0  [{'args': {'prompt': 'What are 4 main types of...   \n",
       "\n",
       "                             Context Relevance_calls  \\\n",
       "6  [{'args': {'prompt': 'What are 4 main types of...   \n",
       "\n",
       "                                  Groundedness_calls  latency  total_tokens  \\\n",
       "6  [{'args': {'source': '3 Essential Persons Need...       14           693   \n",
       "\n",
       "   total_cost  \n",
       "6    0.001058  "
      ]
     },
     "execution_count": 53,
     "metadata": {},
     "output_type": "execute_result"
    }
   ],
   "source": [
    "records3[records3['Context Relevance']<=0.2]"
   ]
  },
  {
   "cell_type": "code",
   "execution_count": 51,
   "metadata": {},
   "outputs": [
    {
     "data": {
      "image/png": "[encoded data removed]",
      "text/plain": [
       "<Figure size 1000x600 with 1 Axes>"
      ]
     },
     "metadata": {},
     "output_type": "display_data"
    }
   ],
   "source": [
    "score_histogram(records3, 'Answer Relevance', 'Auto Merge Model')"
   ]
  },
  {
   "cell_type": "markdown",
   "metadata": {},
   "source": [
    "The Auto Merge Model achieves very high scores in Answer Relevance, with perfect scores of 1.0 in as many as 10 cases."
   ]
  },
  {
   "cell_type": "markdown",
   "metadata": {},
   "source": [
    "Model Summary"
   ]
  },
  {
   "cell_type": "code",
   "execution_count": 52,
   "metadata": {},
   "outputs": [
    {
     "data": {
      "text/html": [
       "<div>\n",
       "<style scoped>\n",
       "    .dataframe tbody tr th:only-of-type {\n",
       "        vertical-align: middle;\n",
       "    }\n",
       "\n",
       "    .dataframe tbody tr th {\n",
       "        vertical-align: top;\n",
       "    }\n",
       "\n",
       "    .dataframe thead th {\n",
       "        text-align: right;\n",
       "    }\n",
       "</style>\n",
       "<table border=\"1\" class=\"dataframe\">\n",
       "  <thead>\n",
       "    <tr style=\"text-align: right;\">\n",
       "      <th></th>\n",
       "      <th>Groundedness</th>\n",
       "      <th>Answer Relevance</th>\n",
       "      <th>Context Relevance</th>\n",
       "      <th>latency</th>\n",
       "      <th>total_cost</th>\n",
       "    </tr>\n",
       "    <tr>\n",
       "      <th>app_id</th>\n",
       "      <th></th>\n",
       "      <th></th>\n",
       "      <th></th>\n",
       "      <th></th>\n",
       "      <th></th>\n",
       "    </tr>\n",
       "  </thead>\n",
       "  <tbody>\n",
       "    <tr>\n",
       "      <th>Automerging Query Engine</th>\n",
       "      <td>0.865278</td>\n",
       "      <td>0.966667</td>\n",
       "      <td>0.6875</td>\n",
       "      <td>12.25</td>\n",
       "      <td>0.000734</td>\n",
       "    </tr>\n",
       "  </tbody>\n",
       "</table>\n",
       "</div>"
      ],
      "text/plain": [
       "                          Groundedness  Answer Relevance  Context Relevance  \\\n",
       "app_id                                                                        \n",
       "Automerging Query Engine      0.865278          0.966667             0.6875   \n",
       "\n",
       "                          latency  total_cost  \n",
       "app_id                                         \n",
       "Automerging Query Engine    12.25    0.000734  "
      ]
     },
     "execution_count": 52,
     "metadata": {},
     "output_type": "execute_result"
    }
   ],
   "source": [
    "tru.get_leaderboard(app_ids=[])"
   ]
  },
  {
   "cell_type": "markdown",
   "metadata": {},
   "source": [
    "This model has the best Answer Relevance and satisfactory Context Relevance. Nevertheless, its Groundedness is the lowest compared to other models. It's worth mentioning that it also exhibits the highest Latency, which can lead to delays in response times. The total cost remains more or less the same as the Sentence Window Model."
   ]
  },
  {
   "cell_type": "markdown",
   "metadata": {},
   "source": [
    "## Bonus: Context Chat Model"
   ]
  },
  {
   "cell_type": "markdown",
   "metadata": {},
   "source": [
    "Lastly I decieded to create RAG model by utilizing context chat engine from LlamaIndex. The approach is straightforward: we establish an index same as in other models, and then we provide the chat engine with a context that guides its behavior according to the context. For this model I used the most simplified indexing strategy using Vector Store Index without adjusting any parameters."
   ]
  },
  {
   "cell_type": "code",
   "execution_count": 25,
   "metadata": {},
   "outputs": [],
   "source": [
    "context = \"Your sole purpose is to retrieve relevant excerpts from '1300 Towards Data Science Medium Articles' without any alterations. You must strictly adhere to preserving the exact wording of the source material and refrain from any form of interpretation or elaboration. Do NOT use any previous knowledge about Data Science and related topics.\""
   ]
  },
  {
   "cell_type": "code",
   "execution_count": 26,
   "metadata": {},
   "outputs": [],
   "source": [
    "chat_rag_model = ChatRagModel(df, context)"
   ]
  },
  {
   "cell_type": "markdown",
   "metadata": {},
   "source": [
    "The chat response appears to be identical to content found in one of the articles from the '1300 Towards Data Science Medium Articles' dataset.\n",
    "\n",
    "**Original Fragment**: According to the Neuron Doctrine, the neuron is the fundamental structural and functional unit of the brain. Neurons pass information to other neurons in the form of electrical impulses from dendrites to axon via cell body. "
   ]
  },
  {
   "cell_type": "code",
   "execution_count": 27,
   "metadata": {},
   "outputs": [
    {
     "name": "stdout",
     "output_type": "stream",
     "text": [
      "According to the Neuron Doctrine, the neuron is the fundamental structural and functional unit of the brain. Neurons pass information to other neurons in the form of electrical impulses from dendrites to axon via cell body.\n"
     ]
    }
   ],
   "source": [
    "chat_rag_model.create_engine()\n",
    "chat_rag_model.interact()"
   ]
  },
  {
   "cell_type": "code",
   "execution_count": 33,
   "metadata": {},
   "outputs": [
    {
     "name": "stdout",
     "output_type": "stream",
     "text": [
      "Question: What is Word2vec?\n",
      "Response: Word2vec is a technique used to learn word embeddings through a two-layer neural network. It takes a text corpus as input and generates a set of vectors as output, representing words in that corpus. The algorithm was developed by Google in 2013 and can be visualized in a multi-dimensional space.\n",
      "\n",
      "Question: Databricks: How to Save Data Frames as CSV Files on Your Local Computer?\n",
      "Response: To save data frames from Databricks into CSV format on your local computer, you can follow these steps:\n",
      "\n",
      "1. Explore the Databricks File System (DBFS) by going to “Upload Data” (under Common Tasks) → “DBFS” → “FileStore”.\n",
      "\n",
      "2. Save a data frame into CSV in FileStore using the following code on the notebook:\n",
      "Sample.coalesce(1).write.format(“com.databricks.spark.csv”).option(“header”, “true”).save(“dbfs:/FileStore/df/Sample.csv”)\n",
      "\n",
      "Make sure to include coalesce(1) in the code to save the data frame as a whole.\n",
      "\n",
      "Question: What is What-If Tool?\n",
      "Response: The What-If Tool is designed for speedy machine learning analytics, aimed at accelerating iterative model development and training. It allows users to get a quick look at their model performance and data during ML/AI development. The tool is not meant for novices and requires basic knowledge of Python and notebooks. It is considered an excellent accelerant for practicing analysts and ML engineers.\n",
      "\n",
      "Question: Transfer Learning?\n",
      "Response: Transfer learning is a machine learning technique where a model trained on one task is repurposed on a second related task. This approach is particularly useful when the second task has less data available for training. By leveraging knowledge from the first task, the model can achieve better performance on the second task compared to training from scratch.\n",
      "\n",
      "Question: Neural Turing Machines?Do human beings have the most densely packed set of neurons?\n",
      "Response: Neural Turing Machines use an architecture similar to a Turing Machine, with differential components allowing learning through gradient descent, along with an additional memory component accessible through attention mechanisms.\n",
      "\n",
      "Yes, human beings have the most densely packed set of neurons, with approximately 86 billion neurons.\n",
      "\n",
      "Question: What are 4 main types of hackathons?\n",
      "Response: The four main types of hackathons are:\n",
      "\n",
      "1. Online Hackathons\n",
      "2. Local Hackathons\n",
      "3. Global Hackathons\n",
      "4. Corporate Hackathons\n",
      "\n",
      "Question:  What is the problem of Reinforcement Learning\n",
      "Response: The main problem in Reinforcement Learning is the issue of credit assignment, where the agent must determine which actions contributed to the received reward. This problem becomes challenging in cases where rewards are delayed or sparse, making it difficult for the agent to associate actions with outcomes accurately.\n",
      "\n",
      "Question: When to use PCA?What does ARIMA explains?\n",
      "Response: Principal Component Analysis (PCA) is used when dealing with high-dimensional data to reduce the dimensionality while preserving the most critical information. It is particularly useful for visualization, noise reduction, and speeding up machine learning algorithms.\n",
      "\n",
      "Autoregressive Integrated Moving Average (ARIMA) models explain a given time series based on its own past values, including lags and lagged forecast errors. ARIMA models are suitable for non-seasonal time series data that exhibit patterns and are not random white noise.\n",
      "\n",
      "Question: What does Microsoft Power BI offer?\n",
      "Response: Microsoft Power BI offers connectivity to a wide range of data sources such as Oracle, IBM, SQL Server, Salesforce, Google analytics, Azure DevOps, Excel, text files, JSON, Zendesk, Mailchimp, etc. It provides intuitive and graphically rich visualizations, quick response to complex queries, mobile compatibility, easy insight sharing within the organization, the ability to publish data reports and dashboards to the web, help and feedback buttons, pattern indicators, and informative reports with Power BI Desktop.\n",
      "\n",
      "Question: What is the primary reason for Tableau popularity?\n",
      "Response: The primary reason for Tableau's popularity is its user-friendly interface and powerful visualization capabilities. Tableau allows users to create interactive and visually appealing dashboards and reports without requiring extensive technical expertise. Its drag-and-drop functionality, wide range of visualization options, and ability to connect to various data sources make it a preferred choice for data visualization and analysis tasks.\n",
      "\n",
      "Question: What does Linear regression models?\n",
      "Response: Linear regression models an output variable as a linear combination of input features. It aims to find the simplest relationship between a feature variable and the output variable by fitting a line that represents the relationship. The model expresses this relationship using coefficients to predict the output based on the input features.\n",
      "\n"
     ]
    }
   ],
   "source": [
    "for question in eval_questions:\n",
    "    response = chat_rag_model.engine.chat(question)\n",
    "    print(f\"Question: {question}\")\n",
    "    print(f\"Response: {response}\\n\")"
   ]
  },
  {
   "cell_type": "markdown",
   "metadata": {},
   "source": [
    "I couldn't directly compare this model to others using the RAG Triad metrics. However, considering the responses from the evaluation questions, it's evident that this model also excels in retrieving information. The answers we're getting seem like they're copy-paste from the dataset articles, which shows the model's really good at finding the right info. Given its very simple indexing strategy, it can be considered among the best performers."
   ]
  },
  {
   "cell_type": "markdown",
   "metadata": {},
   "source": [
    "## Models Comparison "
   ]
  },
  {
   "cell_type": "markdown",
   "metadata": {},
   "source": [
    "In order to decide which model is the best I decied to visulize their results by utilizing boxplots."
   ]
  },
  {
   "cell_type": "code",
   "execution_count": 54,
   "metadata": {},
   "outputs": [
    {
     "data": {
      "image/png": "[encoded data removed]",
      "text/plain": [
       "<Figure size 1200x600 with 1 Axes>"
      ]
     },
     "metadata": {},
     "output_type": "display_data"
    }
   ],
   "source": [
    "score_boxplot(records1, records2, records3 , 'Groundedness') \t"
   ]
  },
  {
   "cell_type": "markdown",
   "metadata": {},
   "source": [
    "On the chart above, we can see that the Initial Model outperforms the others in terms of Groundedness score. If we were to exclude outlier points, it would have an even greater advantage. The second one is the Sentence Window Model, which, except for one question, performed admirably. Lastly, the Auto Merge Model, despite scoring lower compared to others, stil has decent Groundedness also has the highest outlier value among all models, which may indicate that it is more resistant to outliers."
   ]
  },
  {
   "cell_type": "code",
   "execution_count": 55,
   "metadata": {},
   "outputs": [
    {
     "data": {
      "image/png": "[encoded data removed]",
      "text/plain": [
       "<Figure size 1200x600 with 1 Axes>"
      ]
     },
     "metadata": {},
     "output_type": "display_data"
    }
   ],
   "source": [
    "score_boxplot(records1, records2, records3 , 'Context Relevance')"
   ]
  },
  {
   "cell_type": "markdown",
   "metadata": {},
   "source": [
    "In the case of Context Relevance, we can observe that the Initial Model performed noticeably the worst. Comparing the Sentence Window Model and the Auto Merge Model, we can see that the distribution of results for the former is more consistent. Additionally, we can see that these models have equal means, but the Sentence Window Model has a higher median."
   ]
  },
  {
   "cell_type": "code",
   "execution_count": 56,
   "metadata": {},
   "outputs": [
    {
     "data": {
      "image/png": "[encoded data removed]",
      "text/plain": [
       "<Figure size 1200x600 with 1 Axes>"
      ]
     },
     "metadata": {},
     "output_type": "display_data"
    }
   ],
   "source": [
    "score_boxplot(records1, records2, records3 , 'Answer Relevance')"
   ]
  },
  {
   "cell_type": "markdown",
   "metadata": {},
   "source": [
    "The Auto Merge model definitely has the best Answer Relevance due to a significant margin. The Initial Model achieves only slightly better results than the Sentence Window Model."
   ]
  },
  {
   "cell_type": "markdown",
   "metadata": {},
   "source": [
    "## Conclusion"
   ]
  },
  {
   "cell_type": "markdown",
   "metadata": {},
   "source": [
    "\n",
    "I've developed 4 distinct RAG models, each showcasing unique advantages and drawbacks. It's challenging to determine which model is the best.\n",
    "\n",
    "Each model has its own strengths and weaknesses. Personally, I would first dismiss the Initial Model because it has too low Context Relevance. A low score in this metric suggests that the model may not effectively retrieve chunks related to the query. The other models, which are enriched with algorithms for expanded context retrival, show significantly higher scores in this metric. Despite having lower scores in other metrics (which can be considered a trade-off), they perform better in terms of Context Relevance.\n",
    "\n",
    "In my opinion, the better model between the Sentence Window Model and the Auto Merge Model is the former. It exhibits more stable results in terms of Context Relevance and Groundedness. However, the Auto Merge Model is also excellent, as evidenced by its impressive Answer Relevance score."
   ]
  }
 ],
 "metadata": {
  "kernelspec": {
   "display_name": "rag",
   "language": "python",
   "name": "python3"
  },
  "language_info": {
   "codemirror_mode": {
    "name": "ipython",
    "version": 3
   },
   "file_extension": ".py",
   "mimetype": "text/x-python",
   "name": "python",
   "nbconvert_exporter": "python",
   "pygments_lexer": "ipython3",
   "version": "3.10.14"
  }
 },
 "nbformat": 4,
 "nbformat_minor": 2
}
